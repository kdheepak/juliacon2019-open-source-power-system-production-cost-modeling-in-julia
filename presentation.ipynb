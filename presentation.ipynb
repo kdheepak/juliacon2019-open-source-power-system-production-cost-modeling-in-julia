{
 "cells": [
  {
   "cell_type": "markdown",
   "metadata": {
    "heading_collapsed": true,
    "slideshow": {
     "slide_type": "slide"
    }
   },
   "source": [
    "# Open Source Production Cost Modeling in Julia\n",
    "\n",
    "**Dheepak Krishnamurthy**\n",
    "\n",
    "National Renewable Energy Laboratory (NREL), Golden, CO\n",
    "\n",
    "*July 23rd*\n",
    "\n",
    "JuliaCon 2019, Baltimore, MD\n",
    "\n",
    "[http://github.com/kdheepak/juliacon2019-open-source-power-system-production-cost-modeling-in-julia](http://github.com/kdheepak/juliacon2019-open-source-power-system-production-cost-modeling-in-julia)\n",
    "\n",
    "Launch a live notebook and follow along:\n",
    "\n",
    "[![Binder](https://mybinder.org/badge_logo.svg)](https://mybinder.org/v2/gh/kdheepak/juliacon2019-open-source-power-system-production-cost-modeling-in-julia/master)\n"
   ]
  },
  {
   "cell_type": "code",
   "execution_count": 1,
   "metadata": {
    "ExecuteTime": {
     "end_time": "2019-07-23T05:32:22.065000-06:00",
     "start_time": "2019-07-23T11:32:20.547Z"
    },
    "hidden": true,
    "slideshow": {
     "slide_type": "slide"
    }
   },
   "outputs": [],
   "source": [
    "# initialization"
   ]
  },
  {
   "cell_type": "code",
   "execution_count": 2,
   "metadata": {
    "ExecuteTime": {
     "end_time": "2019-07-23T05:32:23.610000-06:00",
     "start_time": "2019-07-23T11:32:20.552Z"
    },
    "hidden": true,
    "slideshow": {
     "slide_type": "skip"
    }
   },
   "outputs": [],
   "source": [
    "] activate ."
   ]
  },
  {
   "cell_type": "code",
   "execution_count": 3,
   "metadata": {
    "ExecuteTime": {
     "end_time": "2019-07-23T05:32:36.398000-06:00",
     "start_time": "2019-07-23T11:32:20.556Z"
    },
    "hidden": true,
    "slideshow": {
     "slide_type": "skip"
    }
   },
   "outputs": [],
   "source": [
    "using Suppressor;\n",
    "\n",
    "@suppress begin\n",
    "    using PowerSystems;\n",
    "    using PowerSimulations;\n",
    "    using JuMP\n",
    "    using TimeSeries;\n",
    "    using GLPK; \n",
    "    using DataFrames;\n",
    "    using D3TypeTrees;\n",
    "end"
   ]
  },
  {
   "cell_type": "markdown",
   "metadata": {
    "slideshow": {
     "slide_type": "slide"
    }
   },
   "source": [
    "# Table of Contents\n",
    "\n",
    "- What is Production Cost Modeling?\n",
    "- Modeling Demonstration\n",
    "- PowerSystems.jl and PowerSimulations.jl\n",
    "- Learnings and Conclusions"
   ]
  },
  {
   "cell_type": "markdown",
   "metadata": {
    "slideshow": {
     "slide_type": "slide"
    }
   },
   "source": [
    "# What is Production Cost Modeling?"
   ]
  },
  {
   "cell_type": "markdown",
   "metadata": {
    "slideshow": {
     "slide_type": "slide"
    }
   },
   "source": [
    "## Electricity Grid Operations\n",
    "\n",
    "- Supply of electricity must meet Demand at all times\n",
    "- Generation of electricity (Supply) is not always co-located with Load (Demand)\n",
    "- Electricity flows through large interconnected network / grid\n",
    "- Generation located at different points on the grid may have different costs\n"
   ]
  },
  {
   "cell_type": "markdown",
   "metadata": {
    "slideshow": {
     "slide_type": "slide"
    }
   },
   "source": [
    "## Production Cost Modeling\n",
    "\n",
    "- Captures all the costs of operating a fleet of generators that are connected to a given electrical grid \n",
    "- Includes Economic Dispatch, Unit Commitment, and Location Marginal Prices (LMPs)\n"
   ]
  },
  {
   "cell_type": "markdown",
   "metadata": {
    "slideshow": {
     "slide_type": "slide"
    }
   },
   "source": [
    "## Why Production Cost Modeling?\n",
    "\n",
    "- Understand how efficiently the grid is being operated\n",
    "- Evaluate the economic impacts of decisions\n",
    "- Verify feasibility of planning outcomes"
   ]
  },
  {
   "cell_type": "markdown",
   "metadata": {
    "slideshow": {
     "slide_type": "slide"
    }
   },
   "source": [
    "## Mathematical Programming for Production Cost Modeling\n",
    "\n",
    "- Can be formulated as an optimization problem\n",
    "- Mixed Integer Linear Problem (MILP)\n",
    "- [JuMP.jl](https://github.com/JuliaOpt/JuMP.jl) is a domain-specific modeling language for mathematical optimization embedded in [Julia](https://github.com/JuliaLang/julia/). "
   ]
  },
  {
   "cell_type": "markdown",
   "metadata": {
    "slideshow": {
     "slide_type": "slide"
    }
   },
   "source": [
    "# Modeling demonstration"
   ]
  },
  {
   "cell_type": "markdown",
   "metadata": {
    "slideshow": {
     "slide_type": "slide"
    }
   },
   "source": [
    "<img src=\"./images/5busT.png\" style=\"width: 50%;\"/>\n",
    "\n",
    "<!-- \n",
    "generators5 = vcat(sys.generators.thermal[:], sys.generators.renewable[:])\n",
    "-->"
   ]
  },
  {
   "cell_type": "code",
   "execution_count": 4,
   "metadata": {
    "ExecuteTime": {
     "end_time": "2019-07-23T05:32:42.707000-06:00",
     "start_time": "2019-07-23T11:32:20.572Z"
    },
    "slideshow": {
     "slide_type": "-"
    }
   },
   "outputs": [
    {
     "data": {
      "text/plain": [
       "5-element Array{String,1}:\n",
       " \"Alta\"     \n",
       " \"Park City\"\n",
       " \"Solitude\" \n",
       " \"Sundance\" \n",
       " \"Brighton\" "
      ]
     },
     "execution_count": 4,
     "metadata": {},
     "output_type": "execute_result"
    }
   ],
   "source": [
    "include(\"./scripts/read_data.jl\")\n",
    "getproperty.(generators5, :name)[1:5]"
   ]
  },
  {
   "cell_type": "code",
   "execution_count": 5,
   "metadata": {
    "ExecuteTime": {
     "end_time": "2019-07-23T05:32:42.910000-06:00",
     "start_time": "2019-07-23T11:32:20.576Z"
    },
    "slideshow": {
     "slide_type": "slide"
    }
   },
   "outputs": [],
   "source": [
    "sys;"
   ]
  },
  {
   "cell_type": "code",
   "execution_count": 6,
   "metadata": {
    "ExecuteTime": {
     "end_time": "2019-07-23T05:32:43.469000-06:00",
     "start_time": "2019-07-23T11:32:20.580Z"
    },
    "slideshow": {
     "slide_type": "-"
    }
   },
   "outputs": [],
   "source": [
    "@assert sys isa PowerSystems.System"
   ]
  },
  {
   "cell_type": "code",
   "execution_count": 7,
   "metadata": {
    "ExecuteTime": {
     "end_time": "2019-07-23T05:32:43.494000-06:00",
     "start_time": "2019-07-23T11:32:20.584Z"
    },
    "slideshow": {
     "slide_type": "-"
    }
   },
   "outputs": [],
   "source": [
    "@assert generators5 isa Vector{PowerSystems.Generator}"
   ]
  },
  {
   "cell_type": "code",
   "execution_count": 8,
   "metadata": {
    "ExecuteTime": {
     "end_time": "2019-07-23T05:32:43.508000-06:00",
     "start_time": "2019-07-23T11:32:20.588Z"
    },
    "slideshow": {
     "slide_type": "-"
    }
   },
   "outputs": [],
   "source": [
    "@assert (generators5[1] |> typeof) === PowerSystems.ThermalDispatch"
   ]
  },
  {
   "cell_type": "code",
   "execution_count": 9,
   "metadata": {
    "ExecuteTime": {
     "end_time": "2019-07-23T05:32:45.778000-06:00",
     "start_time": "2019-07-23T11:32:20.593Z"
    },
    "slideshow": {
     "slide_type": "slide"
    }
   },
   "outputs": [
    {
     "data": {
      "text/latex": [
       "$$ \\begin{alignat*}{1}\\text{feasibility}\\\\\n",
       "\\text{Subject to} \\quad\\end{alignat*}\n",
       " $$"
      ],
      "text/plain": [
       "A JuMP Model\n",
       "Feasibility problem with:\n",
       "Variables: 0\n",
       "Model mode: AUTOMATIC\n",
       "CachingOptimizer state: NO_OPTIMIZER\n",
       "Solver name: No optimizer attached."
      ]
     },
     "execution_count": 9,
     "metadata": {},
     "output_type": "execute_result"
    }
   ],
   "source": [
    "economic_dispatch_model = JuMP.Model()"
   ]
  },
  {
   "cell_type": "markdown",
   "metadata": {
    "slideshow": {
     "slide_type": "slide"
    }
   },
   "source": [
    "$$\n",
    "\\begin{aligned}\n",
    "& p_{g,t} >= P^{MIN}_g & & \\forall g,t \\\\\n",
    "& p_{g,t} <= P^{MAX}_g & & \\forall g,t \\\\\n",
    "\\end{aligned}\n",
    "$$\n",
    "\n",
    "- $p_{g,t}$ is the MW produced by generator $g$ in period $t$,\n",
    "- $P_g^{MAX}$ and $P_g^{MIN}$ are the maximum and minimum MW respectively that can be produced by generator $g$"
   ]
  },
  {
   "cell_type": "code",
   "execution_count": 10,
   "metadata": {
    "ExecuteTime": {
     "end_time": "2019-07-23T05:32:46.354000-06:00",
     "start_time": "2019-07-23T11:32:20.599Z"
    },
    "slideshow": {
     "slide_type": "-"
    }
   },
   "outputs": [
    {
     "data": {
      "text/plain": [
       "ThermalDispatch:\n",
       "   name: Alta\n",
       "   available: true\n",
       "   bus: Bus(name=\"nodeA\")\n",
       "   tech: TechThermal\n",
       "   econ: EconThermal"
      ]
     },
     "execution_count": 10,
     "metadata": {},
     "output_type": "execute_result"
    }
   ],
   "source": [
    "generators5[1]"
   ]
  },
  {
   "cell_type": "code",
   "execution_count": 11,
   "metadata": {
    "ExecuteTime": {
     "end_time": "2019-07-23T05:32:50.740000-06:00",
     "start_time": "2019-07-23T11:32:20.606Z"
    },
    "slideshow": {
     "slide_type": "slide"
    }
   },
   "outputs": [],
   "source": [
    "\n",
    "g_set = [generators5[i].name for i in 1:5]\n",
    "@variable(economic_dispatch_model, Pg[g_set, t = 1:1])\n",
    "\n",
    "for i = 1:5\n",
    "    @constraint(economic_dispatch_model, Pg[generators5[i].name, 1] >= generators5[i].tech.activepowerlimits.min)\n",
    "    @constraint(economic_dispatch_model, Pg[generators5[i].name, 1] <= generators5[i].tech.activepowerlimits.max)\n",
    "end"
   ]
  },
  {
   "cell_type": "code",
   "execution_count": 12,
   "metadata": {
    "ExecuteTime": {
     "end_time": "2019-07-23T05:32:51.354000-06:00",
     "start_time": "2019-07-23T11:32:20.618Z"
    },
    "slideshow": {
     "slide_type": "slide"
    }
   },
   "outputs": [
    {
     "data": {
      "text/latex": [
       "$$ \\begin{alignat*}{1}\\text{feasibility}\\\\\n",
       "\\text{Subject to} \\quad & Pg_{Alta,1} \\geq 0.0\\\\\n",
       " & Pg_{Park City,1} \\geq 0.0\\\\\n",
       " & Pg_{Solitude,1} \\geq 0.0\\\\\n",
       " & Pg_{Sundance,1} \\geq 0.0\\\\\n",
       " & Pg_{Brighton,1} \\geq 0.0\\\\\n",
       " & Pg_{Alta,1} \\leq 40.0\\\\\n",
       " & Pg_{Park City,1} \\leq 170.0\\\\\n",
       " & Pg_{Solitude,1} \\leq 520.0\\\\\n",
       " & Pg_{Sundance,1} \\leq 500.0\\\\\n",
       " & Pg_{Brighton,1} \\leq 600.0\\\\\n",
       "\\end{alignat*}\n",
       " $$"
      ],
      "text/plain": [
       "A JuMP Model\n",
       "Feasibility problem with:\n",
       "Variables: 5\n",
       "`GenericAffExpr{Float64,VariableRef}`-in-`MathOptInterface.GreaterThan{Float64}`: 5 constraints\n",
       "`GenericAffExpr{Float64,VariableRef}`-in-`MathOptInterface.LessThan{Float64}`: 5 constraints\n",
       "Model mode: AUTOMATIC\n",
       "CachingOptimizer state: NO_OPTIMIZER\n",
       "Solver name: No optimizer attached.\n",
       "Names registered in the model: Pg"
      ]
     },
     "execution_count": 12,
     "metadata": {},
     "output_type": "execute_result"
    }
   ],
   "source": [
    "economic_dispatch_model"
   ]
  },
  {
   "cell_type": "markdown",
   "metadata": {
    "slideshow": {
     "slide_type": "slide"
    }
   },
   "source": [
    "- Different kinds of generators\n",
    "    - Thermal\n",
    "    - Renewable\n",
    "    - Hydro"
   ]
  },
  {
   "cell_type": "code",
   "execution_count": 13,
   "metadata": {
    "ExecuteTime": {
     "end_time": "2019-07-23T05:32:52.395000-06:00",
     "start_time": "2019-07-23T11:32:20.624Z"
    },
    "slideshow": {
     "slide_type": "-"
    }
   },
   "outputs": [
    {
     "data": {
      "text/plain": [
       "7-element Array{DataType,1}:\n",
       " ThermalGen  \n",
       " ThermalGen  \n",
       " ThermalGen  \n",
       " ThermalGen  \n",
       " ThermalGen  \n",
       " RenewableGen\n",
       " RenewableGen"
      ]
     },
     "execution_count": 13,
     "metadata": {},
     "output_type": "execute_result"
    }
   ],
   "source": [
    "supertype.(typeof.(generators5))"
   ]
  },
  {
   "cell_type": "code",
   "execution_count": 14,
   "metadata": {
    "ExecuteTime": {
     "end_time": "2019-07-23T05:32:52.945000-06:00",
     "start_time": "2019-07-23T11:32:20.627Z"
    },
    "slideshow": {
     "slide_type": "slide"
    }
   },
   "outputs": [
    {
     "data": {
      "text/plain": [
       "powerconstraints (generic function with 2 methods)"
      ]
     },
     "execution_count": 14,
     "metadata": {},
     "output_type": "execute_result"
    }
   ],
   "source": [
    "function powerconstraints(m, P_g, generator::ThermalGen)\n",
    "    for var in P_g\n",
    "        @constraint(m, var >= generator.tech.activepowerlimits.min)\n",
    "        @constraint(m, var <= generator.tech.activepowerlimits.max)\n",
    "    end\n",
    "end\n",
    "\n",
    "\n",
    "function powerconstraints(m, P_g, generator::RenewableGen)\n",
    "    for (time, var) in enumerate(P_g)\n",
    "        @constraint(m, var <= generator.tech.installedcapacity*values(generator.scalingfactor)[time])\n",
    "    end\n",
    "end\n",
    "\n"
   ]
  },
  {
   "cell_type": "code",
   "execution_count": 15,
   "metadata": {
    "ExecuteTime": {
     "end_time": "2019-07-23T05:32:53.822000-06:00",
     "start_time": "2019-07-23T11:32:20.630Z"
    },
    "slideshow": {
     "slide_type": "slide"
    }
   },
   "outputs": [],
   "source": [
    "economic_dispatch_model = JuMP.Model()\n",
    "@variable(economic_dispatch_model, Pg[g_set, t = 1:sys.time_periods] >=0 );\n",
    "for (ix, name) in enumerate(Pg.axes[1])\n",
    "    @assert name == generators5[ix].name\n",
    "    powerconstraints(economic_dispatch_model, Pg[name, :], generators5[ix])\n",
    "end"
   ]
  },
  {
   "cell_type": "markdown",
   "metadata": {
    "slideshow": {
     "slide_type": "slide"
    }
   },
   "source": [
    "<!--Start equation--> $$\n",
    "\\begin{aligned}\n",
    "& \\sum_{g}^{G} p_{g,t} = \\sum_{d}^{D} p_{d,t} & & \\forall t \\\\\n",
    "\\end{aligned}\n",
    "$$<!--End equation-->\n",
    "\n",
    "- $p_{g,t}$ is the MW produced by generator $g$ in period $t$,\n",
    "- $p_{d,t}$ is the MW consumed by load $d$ in period $t$,\n"
   ]
  },
  {
   "cell_type": "code",
   "execution_count": 16,
   "metadata": {
    "ExecuteTime": {
     "end_time": "2019-07-23T05:32:54.241000-06:00",
     "start_time": "2019-07-23T11:32:20.637Z"
    },
    "slideshow": {
     "slide_type": "-"
    }
   },
   "outputs": [],
   "source": [
    "\n",
    "for time in 1:sys.time_periods\n",
    "    @constraint(economic_dispatch_model, sum(Pg[g, time] for g in g_set) == sum(loads5_DA[l].maxactivepower*values(loads5_DA[l].scalingfactor) for l in 1:4)[time])\n",
    "end"
   ]
  },
  {
   "cell_type": "markdown",
   "metadata": {
    "slideshow": {
     "slide_type": "slide"
    }
   },
   "source": [
    "$$\n",
    "\\begin{aligned}\n",
    "\\underset{p_{g,t}}{\\text{min}}\n",
    "\\sum_{t}^{T}\\sum_{g}^{G} p_{g,t} PC_{g,t}\n",
    "\\end{aligned}\n",
    "$$\n",
    "\n",
    "- $p_{g,t}$ is the MW produced by generator $g$ in period $t$,\n",
    "- $PC_{g,t}$ is production cost (\\\\$/MW/period) of operating generator $g$ in period $t$,\n"
   ]
  },
  {
   "cell_type": "code",
   "execution_count": 17,
   "metadata": {
    "ExecuteTime": {
     "end_time": "2019-07-23T05:32:54.242000-06:00",
     "start_time": "2019-07-23T11:32:20.642Z"
    },
    "slideshow": {
     "slide_type": "-"
    }
   },
   "outputs": [
    {
     "data": {
      "text/plain": [
       "ThermalDispatch:\n",
       "   name: Alta\n",
       "   available: true\n",
       "   bus: Bus(name=\"nodeA\")\n",
       "   tech: TechThermal\n",
       "   econ: EconThermal"
      ]
     },
     "execution_count": 17,
     "metadata": {},
     "output_type": "execute_result"
    }
   ],
   "source": [
    "generators5[1]"
   ]
  },
  {
   "cell_type": "code",
   "execution_count": 18,
   "metadata": {
    "ExecuteTime": {
     "end_time": "2019-07-23T05:32:54.943000-06:00",
     "start_time": "2019-07-23T11:32:20.648Z"
    },
    "slideshow": {
     "slide_type": "slide"
    }
   },
   "outputs": [
    {
     "data": {
      "text/latex": [
       "$$ 14 Pg_{Alta,1} + 15 Pg_{Park City,1} + 30 Pg_{Solitude,1} + 40 Pg_{Sundance,1} + 60 Pg_{Brighton,1} $$"
      ],
      "text/plain": [
       "14 Pg[Alta,1] + 15 Pg[Park City,1] + 30 Pg[Solitude,1] + 40 Pg[Sundance,1] + 60 Pg[Brighton,1]"
      ]
     },
     "execution_count": 18,
     "metadata": {},
     "output_type": "execute_result"
    }
   ],
   "source": [
    "c = []\n",
    "\n",
    "for t in 1:1 # sys.time_periods\n",
    "\n",
    "    #the first four generators have a variable cost defined as a julia function\n",
    "    for g in 1:4\n",
    "        push!(c, generators5[g].econ.variablecost(Pg[g_set[g], t]))\n",
    "    end\n",
    "    # The fifth generator has a piecewise linear variable cost, so we can simplify to a scalar function\n",
    "    push!(c, Pg[g_set[5], t]*generators5[5].econ.variablecost[end][2]/generators5[5].econ.variablecost[end][1])\n",
    "\n",
    "end\n",
    "\n",
    "@objective(economic_dispatch_model, Min, sum(c))"
   ]
  },
  {
   "cell_type": "code",
   "execution_count": 19,
   "metadata": {
    "ExecuteTime": {
     "end_time": "2019-07-23T05:32:55.554000-06:00",
     "start_time": "2019-07-23T11:32:20.739Z"
    },
    "slideshow": {
     "slide_type": "slide"
    }
   },
   "outputs": [
    {
     "data": {
      "text/latex": [
       "$$ \\begin{alignat*}{1}\\min\\quad & 14 Pg_{Alta,1} + 15 Pg_{Park City,1} + 30 Pg_{Solitude,1} + 40 Pg_{Sundance,1} + 60 Pg_{Brighton,1}\\\\\n",
       "\\text{Subject to} \\quad & Pg_{Alta,1} \\geq 0.0\\\\\n",
       " & Pg_{Alta,2} \\geq 0.0\\\\\n",
       " & Pg_{Alta,3} \\geq 0.0\\\\\n",
       " & Pg_{Alta,4} \\geq 0.0\\\\\n",
       " & Pg_{Alta,5} \\geq 0.0\\\\\n",
       " & Pg_{Alta,6} \\geq 0.0\\\\\n",
       " & Pg_{Alta,7} \\geq 0.0\\\\\n",
       " & Pg_{Alta,8} \\geq 0.0\\\\\n",
       " & Pg_{Alta,9} \\geq 0.0\\\\\n",
       " & Pg_{Alta,10} \\geq 0.0\\\\\n",
       " & Pg_{Alta,11} \\geq 0.0\\\\\n",
       " & Pg_{Alta,12} \\geq 0.0\\\\\n",
       " & Pg_{Alta,13} \\geq 0.0\\\\\n",
       " & Pg_{Alta,14} \\geq 0.0\\\\\n",
       " & Pg_{Alta,15} \\geq 0.0\\\\\n",
       " & Pg_{Alta,16} \\geq 0.0\\\\\n",
       " & Pg_{Alta,17} \\geq 0.0\\\\\n",
       " & Pg_{Alta,18} \\geq 0.0\\\\\n",
       " & Pg_{Alta,19} \\geq 0.0\\\\\n",
       " & Pg_{Alta,20} \\geq 0.0\\\\\n",
       " & Pg_{Alta,21} \\geq 0.0\\\\\n",
       " & Pg_{Alta,22} \\geq 0.0\\\\\n",
       " & Pg_{Alta,23} \\geq 0.0\\\\\n",
       " & Pg_{Alta,24} \\geq 0.0\\\\\n",
       " & Pg_{Park City,1} \\geq 0.0\\\\\n",
       " & Pg_{Park City,2} \\geq 0.0\\\\\n",
       " & Pg_{Park City,3} \\geq 0.0\\\\\n",
       " & Pg_{Park City,4} \\geq 0.0\\\\\n",
       " & Pg_{Park City,5} \\geq 0.0\\\\\n",
       " & Pg_{Park City,6} \\geq 0.0\\\\\n",
       " & Pg_{Park City,7} \\geq 0.0\\\\\n",
       " & Pg_{Park City,8} \\geq 0.0\\\\\n",
       " & Pg_{Park City,9} \\geq 0.0\\\\\n",
       " & Pg_{Park City,10} \\geq 0.0\\\\\n",
       " & Pg_{Park City,11} \\geq 0.0\\\\\n",
       " & Pg_{Park City,12} \\geq 0.0\\\\\n",
       " & Pg_{Park City,13} \\geq 0.0\\\\\n",
       " & Pg_{Park City,14} \\geq 0.0\\\\\n",
       " & Pg_{Park City,15} \\geq 0.0\\\\\n",
       " & Pg_{Park City,16} \\geq 0.0\\\\\n",
       " & Pg_{Park City,17} \\geq 0.0\\\\\n",
       " & Pg_{Park City,18} \\geq 0.0\\\\\n",
       " & Pg_{Park City,19} \\geq 0.0\\\\\n",
       " & Pg_{Park City,20} \\geq 0.0\\\\\n",
       " & Pg_{Park City,21} \\geq 0.0\\\\\n",
       " & Pg_{Park City,22} \\geq 0.0\\\\\n",
       " & Pg_{Park City,23} \\geq 0.0\\\\\n",
       " & Pg_{Park City,24} \\geq 0.0\\\\\n",
       " & Pg_{Solitude,1} \\geq 0.0\\\\\n",
       " & Pg_{Solitude,2} \\geq 0.0\\\\\n",
       " & Pg_{Solitude,3} \\geq 0.0\\\\\n",
       " & Pg_{Solitude,4} \\geq 0.0\\\\\n",
       " & Pg_{Solitude,5} \\geq 0.0\\\\\n",
       " & Pg_{Solitude,6} \\geq 0.0\\\\\n",
       " & Pg_{Solitude,7} \\geq 0.0\\\\\n",
       " & Pg_{Solitude,8} \\geq 0.0\\\\\n",
       " & Pg_{Solitude,9} \\geq 0.0\\\\\n",
       " & Pg_{Solitude,10} \\geq 0.0\\\\\n",
       " & Pg_{Solitude,11} \\geq 0.0\\\\\n",
       " & Pg_{Solitude,12} \\geq 0.0\\\\\n",
       " & Pg_{Solitude,13} \\geq 0.0\\\\\n",
       " & Pg_{Solitude,14} \\geq 0.0\\\\\n",
       " & Pg_{Solitude,15} \\geq 0.0\\\\\n",
       " & Pg_{Solitude,16} \\geq 0.0\\\\\n",
       " & Pg_{Solitude,17} \\geq 0.0\\\\\n",
       " & Pg_{Solitude,18} \\geq 0.0\\\\\n",
       " & Pg_{Solitude,19} \\geq 0.0\\\\\n",
       " & Pg_{Solitude,20} \\geq 0.0\\\\\n",
       " & Pg_{Solitude,21} \\geq 0.0\\\\\n",
       " & Pg_{Solitude,22} \\geq 0.0\\\\\n",
       " & Pg_{Solitude,23} \\geq 0.0\\\\\n",
       " & Pg_{Solitude,24} \\geq 0.0\\\\\n",
       " & Pg_{Sundance,1} \\geq 0.0\\\\\n",
       " & Pg_{Sundance,2} \\geq 0.0\\\\\n",
       " & Pg_{Sundance,3} \\geq 0.0\\\\\n",
       " & Pg_{Sundance,4} \\geq 0.0\\\\\n",
       " & Pg_{Sundance,5} \\geq 0.0\\\\\n",
       " & Pg_{Sundance,6} \\geq 0.0\\\\\n",
       " & Pg_{Sundance,7} \\geq 0.0\\\\\n",
       " & Pg_{Sundance,8} \\geq 0.0\\\\\n",
       " & Pg_{Sundance,9} \\geq 0.0\\\\\n",
       " & Pg_{Sundance,10} \\geq 0.0\\\\\n",
       " & Pg_{Sundance,11} \\geq 0.0\\\\\n",
       " & Pg_{Sundance,12} \\geq 0.0\\\\\n",
       " & Pg_{Sundance,13} \\geq 0.0\\\\\n",
       " & Pg_{Sundance,14} \\geq 0.0\\\\\n",
       " & Pg_{Sundance,15} \\geq 0.0\\\\\n",
       " & Pg_{Sundance,16} \\geq 0.0\\\\\n",
       " & Pg_{Sundance,17} \\geq 0.0\\\\\n",
       " & Pg_{Sundance,18} \\geq 0.0\\\\\n",
       " & Pg_{Sundance,19} \\geq 0.0\\\\\n",
       " & Pg_{Sundance,20} \\geq 0.0\\\\\n",
       " & Pg_{Sundance,21} \\geq 0.0\\\\\n",
       " & Pg_{Sundance,22} \\geq 0.0\\\\\n",
       " & Pg_{Sundance,23} \\geq 0.0\\\\\n",
       " & Pg_{Sundance,24} \\geq 0.0\\\\\n",
       " & Pg_{Brighton,1} \\geq 0.0\\\\\n",
       " & Pg_{Brighton,2} \\geq 0.0\\\\\n",
       " & Pg_{Brighton,3} \\geq 0.0\\\\\n",
       " & Pg_{Brighton,4} \\geq 0.0\\\\\n",
       " & Pg_{Brighton,5} \\geq 0.0\\\\\n",
       " & Pg_{Brighton,6} \\geq 0.0\\\\\n",
       " & Pg_{Brighton,7} \\geq 0.0\\\\\n",
       " & Pg_{Brighton,8} \\geq 0.0\\\\\n",
       " & Pg_{Brighton,9} \\geq 0.0\\\\\n",
       " & Pg_{Brighton,10} \\geq 0.0\\\\\n",
       " & Pg_{Brighton,11} \\geq 0.0\\\\\n",
       " & Pg_{Brighton,12} \\geq 0.0\\\\\n",
       " & Pg_{Brighton,13} \\geq 0.0\\\\\n",
       " & Pg_{Brighton,14} \\geq 0.0\\\\\n",
       " & Pg_{Brighton,15} \\geq 0.0\\\\\n",
       " & Pg_{Brighton,16} \\geq 0.0\\\\\n",
       " & Pg_{Brighton,17} \\geq 0.0\\\\\n",
       " & Pg_{Brighton,18} \\geq 0.0\\\\\n",
       " & Pg_{Brighton,19} \\geq 0.0\\\\\n",
       " & Pg_{Brighton,20} \\geq 0.0\\\\\n",
       " & Pg_{Brighton,21} \\geq 0.0\\\\\n",
       " & Pg_{Brighton,22} \\geq 0.0\\\\\n",
       " & Pg_{Brighton,23} \\geq 0.0\\\\\n",
       " & Pg_{Brighton,24} \\geq 0.0\\\\\n",
       " & Pg_{Alta,1} + Pg_{Park City,1} + Pg_{Solitude,1} + Pg_{Sundance,1} + Pg_{Brighton,1} = 922.795799\\\\\n",
       " & Pg_{Alta,2} + Pg_{Park City,2} + Pg_{Solitude,2} + Pg_{Sundance,2} + Pg_{Brighton,2} = 759.1643151\\\\\n",
       " & Pg_{Alta,3} + Pg_{Park City,3} + Pg_{Solitude,3} + Pg_{Sundance,3} + Pg_{Brighton,3} = 734.5093047999999\\\\\n",
       " & Pg_{Alta,4} + Pg_{Park City,4} + Pg_{Solitude,4} + Pg_{Sundance,4} + Pg_{Brighton,4} = 706.4582692000001\\\\\n",
       " & Pg_{Alta,5} + Pg_{Park City,5} + Pg_{Solitude,5} + Pg_{Sundance,5} + Pg_{Brighton,5} = 714.4408604\\\\\n",
       " & Pg_{Alta,6} + Pg_{Park City,6} + Pg_{Solitude,6} + Pg_{Sundance,6} + Pg_{Brighton,6} = 726.0633695\\\\\n",
       " & Pg_{Alta,7} + Pg_{Park City,7} + Pg_{Solitude,7} + Pg_{Sundance,7} + Pg_{Brighton,7} = 759.6421525000001\\\\\n",
       " & Pg_{Alta,8} + Pg_{Park City,8} + Pg_{Solitude,8} + Pg_{Sundance,8} + Pg_{Brighton,8} = 804.0165850999999\\\\\n",
       " & Pg_{Alta,9} + Pg_{Park City,9} + Pg_{Solitude,9} + Pg_{Sundance,9} + Pg_{Brighton,9} = 857.1967308\\\\\n",
       " & Pg_{Alta,10} + Pg_{Park City,10} + Pg_{Solitude,10} + Pg_{Sundance,10} + Pg_{Brighton,10} = 915.8376722999999\\\\\n",
       " & Pg_{Alta,11} + Pg_{Park City,11} + Pg_{Solitude,11} + Pg_{Sundance,11} + Pg_{Brighton,11} = 959.8458138999999\\\\\n",
       " & Pg_{Alta,12} + Pg_{Park City,12} + Pg_{Solitude,12} + Pg_{Sundance,12} + Pg_{Brighton,12} = 973.9960466999999\\\\\n",
       " & Pg_{Alta,13} + Pg_{Park City,13} + Pg_{Solitude,13} + Pg_{Sundance,13} + Pg_{Brighton,13} = 977.8573365\\\\\n",
       " & Pg_{Alta,14} + Pg_{Park City,14} + Pg_{Solitude,14} + Pg_{Sundance,14} + Pg_{Brighton,14} = 953.8466469\\\\\n",
       " & Pg_{Alta,15} + Pg_{Park City,15} + Pg_{Solitude,15} + Pg_{Sundance,15} + Pg_{Brighton,15} = 933.6228672999999\\\\\n",
       " & Pg_{Alta,16} + Pg_{Park City,16} + Pg_{Solitude,16} + Pg_{Sundance,16} + Pg_{Brighton,16} = 934.4207472999999\\\\\n",
       " & Pg_{Alta,17} + Pg_{Park City,17} + Pg_{Solitude,17} + Pg_{Sundance,17} + Pg_{Brighton,17} = 980.5081166\\\\\n",
       " & Pg_{Alta,18} + Pg_{Park City,18} + Pg_{Solitude,18} + Pg_{Sundance,18} + Pg_{Brighton,18} = 1026.6121352999999\\\\\n",
       " & Pg_{Alta,19} + Pg_{Park City,19} + Pg_{Solitude,19} + Pg_{Sundance,19} + Pg_{Brighton,19} = 1093.0296584\\\\\n",
       " & Pg_{Alta,20} + Pg_{Park City,20} + Pg_{Solitude,20} + Pg_{Sundance,20} + Pg_{Brighton,20} = 1084.8132515\\\\\n",
       " & Pg_{Alta,21} + Pg_{Park City,21} + Pg_{Solitude,21} + Pg_{Sundance,21} + Pg_{Brighton,21} = 1045.1216012\\\\\n",
       " & Pg_{Alta,22} + Pg_{Park City,22} + Pg_{Solitude,22} + Pg_{Sundance,22} + Pg_{Brighton,22} = 983.4801808\\\\\n",
       " & Pg_{Alta,23} + Pg_{Park City,23} + Pg_{Solitude,23} + Pg_{Sundance,23} + Pg_{Brighton,23} = 933.9254397\\\\\n",
       " & Pg_{Alta,24} + Pg_{Park City,24} + Pg_{Solitude,24} + Pg_{Sundance,24} + Pg_{Brighton,24} = 857.3165453\\\\\n",
       " & Pg_{Alta,1} \\geq 0.0\\\\\n",
       " & Pg_{Alta,2} \\geq 0.0\\\\\n",
       " & Pg_{Alta,3} \\geq 0.0\\\\\n",
       " & Pg_{Alta,4} \\geq 0.0\\\\\n",
       " & Pg_{Alta,5} \\geq 0.0\\\\\n",
       " & Pg_{Alta,6} \\geq 0.0\\\\\n",
       " & Pg_{Alta,7} \\geq 0.0\\\\\n",
       " & Pg_{Alta,8} \\geq 0.0\\\\\n",
       " & Pg_{Alta,9} \\geq 0.0\\\\\n",
       " & Pg_{Alta,10} \\geq 0.0\\\\\n",
       " & Pg_{Alta,11} \\geq 0.0\\\\\n",
       " & Pg_{Alta,12} \\geq 0.0\\\\\n",
       " & Pg_{Alta,13} \\geq 0.0\\\\\n",
       " & Pg_{Alta,14} \\geq 0.0\\\\\n",
       " & Pg_{Alta,15} \\geq 0.0\\\\\n",
       " & Pg_{Alta,16} \\geq 0.0\\\\\n",
       " & Pg_{Alta,17} \\geq 0.0\\\\\n",
       " & Pg_{Alta,18} \\geq 0.0\\\\\n",
       " & Pg_{Alta,19} \\geq 0.0\\\\\n",
       " & Pg_{Alta,20} \\geq 0.0\\\\\n",
       " & Pg_{Alta,21} \\geq 0.0\\\\\n",
       " & Pg_{Alta,22} \\geq 0.0\\\\\n",
       " & Pg_{Alta,23} \\geq 0.0\\\\\n",
       " & Pg_{Alta,24} \\geq 0.0\\\\\n",
       " & Pg_{Park City,1} \\geq 0.0\\\\\n",
       " & Pg_{Park City,2} \\geq 0.0\\\\\n",
       " & Pg_{Park City,3} \\geq 0.0\\\\\n",
       " & Pg_{Park City,4} \\geq 0.0\\\\\n",
       " & Pg_{Park City,5} \\geq 0.0\\\\\n",
       " & Pg_{Park City,6} \\geq 0.0\\\\\n",
       " & Pg_{Park City,7} \\geq 0.0\\\\\n",
       " & Pg_{Park City,8} \\geq 0.0\\\\\n",
       " & Pg_{Park City,9} \\geq 0.0\\\\\n",
       " & Pg_{Park City,10} \\geq 0.0\\\\\n",
       " & Pg_{Park City,11} \\geq 0.0\\\\\n",
       " & Pg_{Park City,12} \\geq 0.0\\\\\n",
       " & Pg_{Park City,13} \\geq 0.0\\\\\n",
       " & Pg_{Park City,14} \\geq 0.0\\\\\n",
       " & Pg_{Park City,15} \\geq 0.0\\\\\n",
       " & Pg_{Park City,16} \\geq 0.0\\\\\n",
       " & Pg_{Park City,17} \\geq 0.0\\\\\n",
       " & Pg_{Park City,18} \\geq 0.0\\\\\n",
       " & Pg_{Park City,19} \\geq 0.0\\\\\n",
       " & Pg_{Park City,20} \\geq 0.0\\\\\n",
       " & Pg_{Park City,21} \\geq 0.0\\\\\n",
       " & Pg_{Park City,22} \\geq 0.0\\\\\n",
       " & Pg_{Park City,23} \\geq 0.0\\\\\n",
       " & Pg_{Park City,24} \\geq 0.0\\\\\n",
       " & Pg_{Solitude,1} \\geq 0.0\\\\\n",
       " & Pg_{Solitude,2} \\geq 0.0\\\\\n",
       " & Pg_{Solitude,3} \\geq 0.0\\\\\n",
       " & Pg_{Solitude,4} \\geq 0.0\\\\\n",
       " & Pg_{Solitude,5} \\geq 0.0\\\\\n",
       " & Pg_{Solitude,6} \\geq 0.0\\\\\n",
       " & Pg_{Solitude,7} \\geq 0.0\\\\\n",
       " & Pg_{Solitude,8} \\geq 0.0\\\\\n",
       " & Pg_{Solitude,9} \\geq 0.0\\\\\n",
       " & Pg_{Solitude,10} \\geq 0.0\\\\\n",
       " & Pg_{Solitude,11} \\geq 0.0\\\\\n",
       " & Pg_{Solitude,12} \\geq 0.0\\\\\n",
       " & Pg_{Solitude,13} \\geq 0.0\\\\\n",
       " & Pg_{Solitude,14} \\geq 0.0\\\\\n",
       " & Pg_{Solitude,15} \\geq 0.0\\\\\n",
       " & Pg_{Solitude,16} \\geq 0.0\\\\\n",
       " & Pg_{Solitude,17} \\geq 0.0\\\\\n",
       " & Pg_{Solitude,18} \\geq 0.0\\\\\n",
       " & Pg_{Solitude,19} \\geq 0.0\\\\\n",
       " & Pg_{Solitude,20} \\geq 0.0\\\\\n",
       " & Pg_{Solitude,21} \\geq 0.0\\\\\n",
       " & Pg_{Solitude,22} \\geq 0.0\\\\\n",
       " & Pg_{Solitude,23} \\geq 0.0\\\\\n",
       " & Pg_{Solitude,24} \\geq 0.0\\\\\n",
       " & Pg_{Sundance,1} \\geq 0.0\\\\\n",
       " & Pg_{Sundance,2} \\geq 0.0\\\\\n",
       " & Pg_{Sundance,3} \\geq 0.0\\\\\n",
       " & Pg_{Sundance,4} \\geq 0.0\\\\\n",
       " & Pg_{Sundance,5} \\geq 0.0\\\\\n",
       " & Pg_{Sundance,6} \\geq 0.0\\\\\n",
       " & Pg_{Sundance,7} \\geq 0.0\\\\\n",
       " & Pg_{Sundance,8} \\geq 0.0\\\\\n",
       " & Pg_{Sundance,9} \\geq 0.0\\\\\n",
       " & Pg_{Sundance,10} \\geq 0.0\\\\\n",
       " & Pg_{Sundance,11} \\geq 0.0\\\\\n",
       " & Pg_{Sundance,12} \\geq 0.0\\\\\n",
       " & Pg_{Sundance,13} \\geq 0.0\\\\\n",
       " & Pg_{Sundance,14} \\geq 0.0\\\\\n",
       " & Pg_{Sundance,15} \\geq 0.0\\\\\n",
       " & Pg_{Sundance,16} \\geq 0.0\\\\\n",
       " & Pg_{Sundance,17} \\geq 0.0\\\\\n",
       " & Pg_{Sundance,18} \\geq 0.0\\\\\n",
       " & Pg_{Sundance,19} \\geq 0.0\\\\\n",
       " & Pg_{Sundance,20} \\geq 0.0\\\\\n",
       " & Pg_{Sundance,21} \\geq 0.0\\\\\n",
       " & Pg_{Sundance,22} \\geq 0.0\\\\\n",
       " & Pg_{Sundance,23} \\geq 0.0\\\\\n",
       " & Pg_{Sundance,24} \\geq 0.0\\\\\n",
       " & Pg_{Brighton,1} \\geq 0.0\\\\\n",
       " & Pg_{Brighton,2} \\geq 0.0\\\\\n",
       " & Pg_{Brighton,3} \\geq 0.0\\\\\n",
       " & Pg_{Brighton,4} \\geq 0.0\\\\\n",
       " & Pg_{Brighton,5} \\geq 0.0\\\\\n",
       " & Pg_{Brighton,6} \\geq 0.0\\\\\n",
       " & Pg_{Brighton,7} \\geq 0.0\\\\\n",
       " & Pg_{Brighton,8} \\geq 0.0\\\\\n",
       " & Pg_{Brighton,9} \\geq 0.0\\\\\n",
       " & Pg_{Brighton,10} \\geq 0.0\\\\\n",
       " & Pg_{Brighton,11} \\geq 0.0\\\\\n",
       " & Pg_{Brighton,12} \\geq 0.0\\\\\n",
       " & Pg_{Brighton,13} \\geq 0.0\\\\\n",
       " & Pg_{Brighton,14} \\geq 0.0\\\\\n",
       " & Pg_{Brighton,15} \\geq 0.0\\\\\n",
       " & Pg_{Brighton,16} \\geq 0.0\\\\\n",
       " & Pg_{Brighton,17} \\geq 0.0\\\\\n",
       " & Pg_{Brighton,18} \\geq 0.0\\\\\n",
       " & Pg_{Brighton,19} \\geq 0.0\\\\\n",
       " & Pg_{Brighton,20} \\geq 0.0\\\\\n",
       " & Pg_{Brighton,21} \\geq 0.0\\\\\n",
       " & Pg_{Brighton,22} \\geq 0.0\\\\\n",
       " & Pg_{Brighton,23} \\geq 0.0\\\\\n",
       " & Pg_{Brighton,24} \\geq 0.0\\\\\n",
       " & Pg_{Alta,1} \\leq 40.0\\\\\n",
       " & Pg_{Alta,2} \\leq 40.0\\\\\n",
       " & Pg_{Alta,3} \\leq 40.0\\\\\n",
       " & Pg_{Alta,4} \\leq 40.0\\\\\n",
       " & Pg_{Alta,5} \\leq 40.0\\\\\n",
       " & Pg_{Alta,6} \\leq 40.0\\\\\n",
       " & Pg_{Alta,7} \\leq 40.0\\\\\n",
       " & Pg_{Alta,8} \\leq 40.0\\\\\n",
       " & Pg_{Alta,9} \\leq 40.0\\\\\n",
       " & Pg_{Alta,10} \\leq 40.0\\\\\n",
       " & Pg_{Alta,11} \\leq 40.0\\\\\n",
       " & Pg_{Alta,12} \\leq 40.0\\\\\n",
       " & Pg_{Alta,13} \\leq 40.0\\\\\n",
       " & Pg_{Alta,14} \\leq 40.0\\\\\n",
       " & Pg_{Alta,15} \\leq 40.0\\\\\n",
       " & Pg_{Alta,16} \\leq 40.0\\\\\n",
       " & Pg_{Alta,17} \\leq 40.0\\\\\n",
       " & Pg_{Alta,18} \\leq 40.0\\\\\n",
       " & Pg_{Alta,19} \\leq 40.0\\\\\n",
       " & Pg_{Alta,20} \\leq 40.0\\\\\n",
       " & Pg_{Alta,21} \\leq 40.0\\\\\n",
       " & Pg_{Alta,22} \\leq 40.0\\\\\n",
       " & Pg_{Alta,23} \\leq 40.0\\\\\n",
       " & Pg_{Alta,24} \\leq 40.0\\\\\n",
       " & Pg_{Park City,1} \\leq 170.0\\\\\n",
       " & Pg_{Park City,2} \\leq 170.0\\\\\n",
       " & Pg_{Park City,3} \\leq 170.0\\\\\n",
       " & Pg_{Park City,4} \\leq 170.0\\\\\n",
       " & Pg_{Park City,5} \\leq 170.0\\\\\n",
       " & Pg_{Park City,6} \\leq 170.0\\\\\n",
       " & Pg_{Park City,7} \\leq 170.0\\\\\n",
       " & Pg_{Park City,8} \\leq 170.0\\\\\n",
       " & Pg_{Park City,9} \\leq 170.0\\\\\n",
       " & Pg_{Park City,10} \\leq 170.0\\\\\n",
       " & Pg_{Park City,11} \\leq 170.0\\\\\n",
       " & Pg_{Park City,12} \\leq 170.0\\\\\n",
       " & Pg_{Park City,13} \\leq 170.0\\\\\n",
       " & Pg_{Park City,14} \\leq 170.0\\\\\n",
       " & Pg_{Park City,15} \\leq 170.0\\\\\n",
       " & Pg_{Park City,16} \\leq 170.0\\\\\n",
       " & Pg_{Park City,17} \\leq 170.0\\\\\n",
       " & Pg_{Park City,18} \\leq 170.0\\\\\n",
       " & Pg_{Park City,19} \\leq 170.0\\\\\n",
       " & Pg_{Park City,20} \\leq 170.0\\\\\n",
       " & Pg_{Park City,21} \\leq 170.0\\\\\n",
       " & Pg_{Park City,22} \\leq 170.0\\\\\n",
       " & Pg_{Park City,23} \\leq 170.0\\\\\n",
       " & Pg_{Park City,24} \\leq 170.0\\\\\n",
       " & Pg_{Solitude,1} \\leq 520.0\\\\\n",
       " & Pg_{Solitude,2} \\leq 520.0\\\\\n",
       " & Pg_{Solitude,3} \\leq 520.0\\\\\n",
       " & Pg_{Solitude,4} \\leq 520.0\\\\\n",
       " & Pg_{Solitude,5} \\leq 520.0\\\\\n",
       " & Pg_{Solitude,6} \\leq 520.0\\\\\n",
       " & Pg_{Solitude,7} \\leq 520.0\\\\\n",
       " & Pg_{Solitude,8} \\leq 520.0\\\\\n",
       " & Pg_{Solitude,9} \\leq 520.0\\\\\n",
       " & Pg_{Solitude,10} \\leq 520.0\\\\\n",
       " & Pg_{Solitude,11} \\leq 520.0\\\\\n",
       " & Pg_{Solitude,12} \\leq 520.0\\\\\n",
       " & Pg_{Solitude,13} \\leq 520.0\\\\\n",
       " & Pg_{Solitude,14} \\leq 520.0\\\\\n",
       " & Pg_{Solitude,15} \\leq 520.0\\\\\n",
       " & Pg_{Solitude,16} \\leq 520.0\\\\\n",
       " & Pg_{Solitude,17} \\leq 520.0\\\\\n",
       " & Pg_{Solitude,18} \\leq 520.0\\\\\n",
       " & Pg_{Solitude,19} \\leq 520.0\\\\\n",
       " & Pg_{Solitude,20} \\leq 520.0\\\\\n",
       " & Pg_{Solitude,21} \\leq 520.0\\\\\n",
       " & Pg_{Solitude,22} \\leq 520.0\\\\\n",
       " & Pg_{Solitude,23} \\leq 520.0\\\\\n",
       " & Pg_{Solitude,24} \\leq 520.0\\\\\n",
       " & Pg_{Sundance,1} \\leq 500.0\\\\\n",
       " & Pg_{Sundance,2} \\leq 500.0\\\\\n",
       " & Pg_{Sundance,3} \\leq 500.0\\\\\n",
       " & Pg_{Sundance,4} \\leq 500.0\\\\\n",
       " & Pg_{Sundance,5} \\leq 500.0\\\\\n",
       " & Pg_{Sundance,6} \\leq 500.0\\\\\n",
       " & Pg_{Sundance,7} \\leq 500.0\\\\\n",
       " & Pg_{Sundance,8} \\leq 500.0\\\\\n",
       " & Pg_{Sundance,9} \\leq 500.0\\\\\n",
       " & Pg_{Sundance,10} \\leq 500.0\\\\\n",
       " & Pg_{Sundance,11} \\leq 500.0\\\\\n",
       " & Pg_{Sundance,12} \\leq 500.0\\\\\n",
       " & Pg_{Sundance,13} \\leq 500.0\\\\\n",
       " & Pg_{Sundance,14} \\leq 500.0\\\\\n",
       " & Pg_{Sundance,15} \\leq 500.0\\\\\n",
       " & Pg_{Sundance,16} \\leq 500.0\\\\\n",
       " & Pg_{Sundance,17} \\leq 500.0\\\\\n",
       " & Pg_{Sundance,18} \\leq 500.0\\\\\n",
       " & Pg_{Sundance,19} \\leq 500.0\\\\\n",
       " & Pg_{Sundance,20} \\leq 500.0\\\\\n",
       " & Pg_{Sundance,21} \\leq 500.0\\\\\n",
       " & Pg_{Sundance,22} \\leq 500.0\\\\\n",
       " & Pg_{Sundance,23} \\leq 500.0\\\\\n",
       " & Pg_{Sundance,24} \\leq 500.0\\\\\n",
       " & Pg_{Brighton,1} \\leq 600.0\\\\\n",
       " & Pg_{Brighton,2} \\leq 600.0\\\\\n",
       " & Pg_{Brighton,3} \\leq 600.0\\\\\n",
       " & Pg_{Brighton,4} \\leq 600.0\\\\\n",
       " & Pg_{Brighton,5} \\leq 600.0\\\\\n",
       " & Pg_{Brighton,6} \\leq 600.0\\\\\n",
       " & Pg_{Brighton,7} \\leq 600.0\\\\\n",
       " & Pg_{Brighton,8} \\leq 600.0\\\\\n",
       " & Pg_{Brighton,9} \\leq 600.0\\\\\n",
       " & Pg_{Brighton,10} \\leq 600.0\\\\\n",
       " & Pg_{Brighton,11} \\leq 600.0\\\\\n",
       " & Pg_{Brighton,12} \\leq 600.0\\\\\n",
       " & Pg_{Brighton,13} \\leq 600.0\\\\\n",
       " & Pg_{Brighton,14} \\leq 600.0\\\\\n",
       " & Pg_{Brighton,15} \\leq 600.0\\\\\n",
       " & Pg_{Brighton,16} \\leq 600.0\\\\\n",
       " & Pg_{Brighton,17} \\leq 600.0\\\\\n",
       " & Pg_{Brighton,18} \\leq 600.0\\\\\n",
       " & Pg_{Brighton,19} \\leq 600.0\\\\\n",
       " & Pg_{Brighton,20} \\leq 600.0\\\\\n",
       " & Pg_{Brighton,21} \\leq 600.0\\\\\n",
       " & Pg_{Brighton,22} \\leq 600.0\\\\\n",
       " & Pg_{Brighton,23} \\leq 600.0\\\\\n",
       " & Pg_{Brighton,24} \\leq 600.0\\\\\n",
       "\\end{alignat*}\n",
       " $$"
      ],
      "text/plain": [
       "A JuMP Model\n",
       "Minimization problem with:\n",
       "Variables: 120\n",
       "Objective function type: GenericAffExpr{Float64,VariableRef}\n",
       "`VariableRef`-in-`MathOptInterface.GreaterThan{Float64}`: 120 constraints\n",
       "`GenericAffExpr{Float64,VariableRef}`-in-`MathOptInterface.EqualTo{Float64}`: 24 constraints\n",
       "`GenericAffExpr{Float64,VariableRef}`-in-`MathOptInterface.GreaterThan{Float64}`: 120 constraints\n",
       "`GenericAffExpr{Float64,VariableRef}`-in-`MathOptInterface.LessThan{Float64}`: 120 constraints\n",
       "Model mode: AUTOMATIC\n",
       "CachingOptimizer state: NO_OPTIMIZER\n",
       "Solver name: No optimizer attached.\n",
       "Names registered in the model: Pg"
      ]
     },
     "execution_count": 19,
     "metadata": {},
     "output_type": "execute_result"
    }
   ],
   "source": [
    "economic_dispatch_model"
   ]
  },
  {
   "cell_type": "code",
   "execution_count": 20,
   "metadata": {
    "ExecuteTime": {
     "end_time": "2019-07-23T05:33:07.213000-06:00",
     "start_time": "2019-07-23T11:32:20.742Z"
    },
    "slideshow": {
     "slide_type": "slide"
    }
   },
   "outputs": [],
   "source": [
    "optimize!(economic_dispatch_model, with_optimizer(GLPK.Optimizer))"
   ]
  },
  {
   "cell_type": "code",
   "execution_count": 21,
   "metadata": {
    "ExecuteTime": {
     "end_time": "2019-07-23T05:33:07.751000-06:00",
     "start_time": "2019-07-23T11:32:20.745Z"
    },
    "slideshow": {
     "slide_type": "-"
    }
   },
   "outputs": [
    {
     "data": {
      "text/plain": [
       "FEASIBLE_POINT::ResultStatusCode = 1"
      ]
     },
     "execution_count": 21,
     "metadata": {},
     "output_type": "execute_result"
    }
   ],
   "source": [
    "JuMP.primal_status(economic_dispatch_model)"
   ]
  },
  {
   "cell_type": "code",
   "execution_count": 22,
   "metadata": {
    "ExecuteTime": {
     "end_time": "2019-07-23T05:33:08.321000-06:00",
     "start_time": "2019-07-23T11:32:20.748Z"
    },
    "slideshow": {
     "slide_type": "-"
    }
   },
   "outputs": [
    {
     "data": {
      "text/plain": [
       "40.0"
      ]
     },
     "execution_count": 22,
     "metadata": {},
     "output_type": "execute_result"
    }
   ],
   "source": [
    "JuMP.value(Pg[\"Alta\", 1])"
   ]
  },
  {
   "cell_type": "markdown",
   "metadata": {
    "ExecuteTime": {
     "end_time": "2019-07-22T10:28:37.409000-06:00",
     "start_time": "2019-07-22T16:28:37.407Z"
    },
    "slideshow": {
     "slide_type": "slide"
    }
   },
   "source": [
    "$$\n",
    "\\begin{aligned}\n",
    "\\underset{p_{g,t}, uc_{g,t}}{\\text{min}}\n",
    "\\ \\sum_{t}^{T}\\sum_{g}^{G} uc_{g,t} FC_{g,t}\n",
    "+ \\sum_{t}^{T}\\sum_{g}^{G} p_{g,t} PC_{g,t} \\\\\n",
    "+ \\sum_{t}^{T}\\sum_{g}^{G} su_{g,t} SU_{g,t}\n",
    "+ \\sum_{t}^{T}\\sum_{g}^{G} sd_{g,t} SD_{g,t}\n",
    "\\end{aligned}\n",
    "$$\n",
    "\n",
    "- $p_{g,t}$ is the MW produced by generator $g$ in period $t$,\n",
    "- $uc_{g,t}$ is 1 (or 0) if generator $g$ is dispatched (or not) during $t$,\n",
    "- $su_{g,t}$ is 1 (or 0) if generator $g$ is started up (or not) at beginning of period $t$,\n",
    "- $sd_{g,t}$ is 1 (or 0) if generator $g$ is shut down (or not) at beginning of period $t$,\n",
    "\n",
    "- $FC_{g,t}$ is no-load cost (\\\\$/period) of operating generator $g$ in period $t$,\n",
    "- $PC_{g,t}$ is production cost (\\\\$/MW/period) of operating generator $g$ in period $t$,\n",
    "- $SU_{g,t}$ is startup cost (\\\\$) of starting generator $g$ in period $t$,\n",
    "- $SD{g,t}$ is shutdown cost (\\\\$) of shutting generator $g$ in period $t$.\n"
   ]
  },
  {
   "cell_type": "markdown",
   "metadata": {
    "slideshow": {
     "slide_type": "slide"
    }
   },
   "source": [
    "$$\n",
    "\\begin{aligned}\n",
    "& p_{g,t} >= uc_{g,t} \\times P^{MIN}_g & & \\forall g,t \\\\\n",
    "& p_{g,t} <= uc_{g,t} \\times P^{MAX}_g & & \\forall g,t \\\\\n",
    "& p_{g,t} <= p_{g,t-1} + P^{RULim}_g & & \\forall g,t \\\\\n",
    "& p_{g,t} >= p_{g,t-1} - P^{RDLim}_g & & \\forall g,t \\\\\n",
    "& uc_{g,t} <= uc_{g,t-1} + su_{g,t} & & \\forall g,t \\\\\n",
    "& uc_{g,t} >= uc_{g,t-1} - sd_{g,t} & & \\forall g,t \\\\\n",
    "& \\sum_{b}^{B} A[l,b] \\times (\\sum_g^G p_{g,t}^{b} - \\sum_d^D p_{d,t}^{b}) <= MaxFlow_l & & \\forall l,t \\\\\n",
    "\\end{aligned}\n",
    "$$\n",
    "\n",
    "- $p_{d,t}$ is the MW consumed by load $d$ in period $t$,\n",
    "- $A[l,b]$ is the contribution factor from an injection at bus $b$ to line $l$,\n",
    "- $P_g^{MAX}$ and $P_g^{MIN}$ are the maximum and minimum MW respectively that can be produced by generator $g$, $P_g^{RULim}$ and $P_g^{RDLim}$ are the MW/period that can be ramped up and ramped down respectively by generator $g$,\n",
    "- $MaxFlow_l$ is the maximum flow limit on line $l$.\n",
    "\n"
   ]
  },
  {
   "cell_type": "markdown",
   "metadata": {
    "slideshow": {
     "slide_type": "slide"
    }
   },
   "source": [
    "## Challenges with Production Cost Modeling\n",
    "\n",
    "- Require large amount of data\n",
    "    - Generator characteristics, load forecast data at various intervals, grid models\n",
    "- Benchmarking and validation requires standard vetted implementations\n",
    "- Significant time required to setup data, build models, simulate and compute results"
   ]
  },
  {
   "cell_type": "markdown",
   "metadata": {
    "slideshow": {
     "slide_type": "slide"
    }
   },
   "source": [
    "# Production Cost Modeling in Julia\n",
    "\n",
    "- [https://github.com/NREL/PowerSystems.jl](https://github.com/NREL/PowerSystems.jl)\n",
    "- [https://github.com/NREL/PowerSimulations.jl](https://github.com/NREL/PowerSimulations.jl)"
   ]
  },
  {
   "cell_type": "markdown",
   "metadata": {
    "slideshow": {
     "slide_type": "slide"
    }
   },
   "source": [
    "## PowerSystems.jl\n",
    "\n",
    "- Rigorous data model using Julia structures to enable power systems analysis\n",
    "    - Generators (Thermal, Renewable, Synchronous Condensers, and Hydro)\n",
    "    - Transmission (Lines, and Transformers)\n",
    "    - Active Flow control devices (DC Lines and phase-shifters)\n",
    "    - Topological elements (Buses, Areas)\n",
    "    - Storage (Batteries)\n",
    "    - Load (Static, and curtailable)\n",
    "    - Services (Reserves, inter-regional transfers)\n",
    "    - Forecasts (Deterministic, scenario, stochastic)\n"
   ]
  },
  {
   "cell_type": "code",
   "execution_count": 23,
   "metadata": {
    "ExecuteTime": {
     "end_time": "2019-07-23T05:33:10.766000-06:00",
     "start_time": "2019-07-23T11:32:20.753Z"
    },
    "scrolled": false,
    "slideshow": {
     "slide_type": "slide"
    }
   },
   "outputs": [
    {
     "data": {
      "text/html": [
       "    <!DOCTYPE html>\n",
       "    <html>\n",
       "    <head>\n",
       "        <meta charset=\"UTF-8\">\n",
       "        <title>Julia D3Tree</title>\n",
       "    </head>\n",
       "    <body>\n",
       "    <div id=\"treevisEZq2Sb8c\">\n",
       "    <style>\n",
       "        \n",
       ".node {\n",
       "    cursor: pointer;\n",
       "}\n",
       "\n",
       ".node circle {\n",
       "\t  fill: #fff;\n",
       "\t  stroke: steelblue;\n",
       "\t  stroke-width: 3px;\n",
       "      r: 10;\n",
       "}\n",
       "\n",
       ".node rect {\n",
       "\t  fill: #fff;\n",
       "\t  stroke: steelblue;\n",
       "\t  stroke-width: 3px;\n",
       "      x: -10;\n",
       "      y: -10;\n",
       "      width: 20;\n",
       "      height: 20;\n",
       "}\n",
       "\n",
       ".node path {\n",
       "    fill: #ffffff;\n",
       "    /* stroke: steelblue; */\n",
       "    stroke-width: 2px;\n",
       "}\n",
       ".node text {\n",
       "    font-family: Arial, Helvetica, sans-serif;\n",
       "    font-style: normal;\n",
       "    font-size: 12px;\n",
       "}\n",
       ".link /* path */ {\n",
       "    fill: none;\n",
       "    stroke: #cccccc;\n",
       "    stroke-width: 2px;\n",
       "}\n",
       ".link text {\n",
       "    font-family: Arial, Helvetica, sans-serif;\n",
       "    font-style: normal;\n",
       "    font-size: 12px;\n",
       "}\n",
       ".hover text{\n",
       "    font-family: Arial, Helvetica, sans-serif;\n",
       "    font-style: normal;\n",
       "    font-size: 12px;\n",
       "}\n",
       "\n",
       "/*\n",
       ".svg-container {\n",
       "    display: inline-block;\n",
       "    position: relative;\n",
       "    width: 100%;\n",
       "    padding-bottom: 100%;\n",
       "    vertical-align: top;\n",
       "    overflow: hidden;\n",
       "}\n",
       ".svg-content-responsive {\n",
       "    display: inline-block;\n",
       "    position: absolute;\n",
       "    top: 10px;\n",
       "    left: 0;\n",
       "}\n",
       "*/\n",
       "\n",
       "    </style>\n",
       "    <script>\n",
       "       (function(){\n",
       "        var treeData = {\"children\":[[2,6,10],[3,4,5],[],[],[],[7,8,9],[],[],[],[11,12],[],[]],\"text\":[\"Generator\",\"RenewableGen\",\"RenewableFix\",\"RenewableCurtailment\",\"RenewableFullDispatch\",\"HydroGen\",\"HydroFix\",\"HydroCurtailment\",\"HydroStorage\",\"ThermalGen\",\"ThermalDispatch\",\"ThermalGenSeason\"],\"tooltip\":[\"Abstract\",\"Abstract\",\"name\\navailable\\nbus\\ntech\\nscalingfactor\",\"name\\navailable\\nbus\\ntech\\necon\\nscalingfactor\",\"name\\navailable\\nbus\\ntech\\necon\\nscalingfactor\",\"Abstract\",\"name\\navailable\\nbus\\ntech\\nscalingfactor\",\"name\\navailable\\nbus\\ntech\\necon\\nscalingfactor\",\"name\\navailable\\nbus\\ntech\\necon\\nstoragecapacity\\nscalingfactor\",\"Abstract\",\"name\\navailable\\nbus\\ntech\\necon\",\"name\\navailable\\nbus\\ntech\\necon\\nscalingfactor\"],\"style\":[\"\",\"\",\"\",\"\",\"\",\"\",\"\",\"\",\"\",\"\",\"\",\"\"],\"link_style\":[\"\",\"\",\"\",\"\",\"\",\"\",\"\",\"\",\"\",\"\",\"\",\"\"],\"title\":\"Julia D3Tree\",\"options\":{\"tooltip\":[\"Abstract\",\"Abstract\",\"name\\navailable\\nbus\\ntech\\nscalingfactor\",\"name\\navailable\\nbus\\ntech\\necon\\nscalingfactor\",\"name\\navailable\\nbus\\ntech\\necon\\nscalingfactor\",\"Abstract\",\"name\\navailable\\nbus\\ntech\\nscalingfactor\",\"name\\navailable\\nbus\\ntech\\necon\\nscalingfactor\",\"name\\navailable\\nbus\\ntech\\necon\\nstoragecapacity\\nscalingfactor\",\"Abstract\",\"name\\navailable\\nbus\\ntech\\necon\",\"name\\navailable\\nbus\\ntech\\necon\\nscalingfactor\"],\"text\":[\"Generator\",\"RenewableGen\",\"RenewableFix\",\"RenewableCurtailment\",\"RenewableFullDispatch\",\"HydroGen\",\"HydroFix\",\"HydroCurtailment\",\"HydroStorage\",\"ThermalGen\",\"ThermalDispatch\",\"ThermalGenSeason\"],\"init_expand\":1}};\n",
       "        var rootID = 1-1;\n",
       "        var div = \"treevisEZq2Sb8c\";\n",
       "        var initExpand = 1\n",
       "        var initDuration = 750\n",
       "        var svgHeight = 600\n",
       "        if (typeof $ === 'undefined') {\n",
       "    loadScript(\"https://code.jquery.com/jquery-3.1.1.min.js\", run);\n",
       "} else {\n",
       "    run();\n",
       "}\n",
       "\n",
       "function run() {\n",
       "    if (typeof d3 === 'undefined') {\n",
       "        loadScript(\"https://d3js.org/d3.v3.js\", showTree);\n",
       "    } else {\n",
       "        showTree();\n",
       "    }\n",
       "}\n",
       "\n",
       "function loadScript(url, callback)\n",
       "{\n",
       "    console.log(\"starting script load...\")\n",
       "    // Adding the script tag to the head as suggested before\n",
       "    var head = document.getElementsByTagName('head')[0];\n",
       "    var script = document.createElement('script');\n",
       "    script.type = 'text/javascript';\n",
       "    script.src = url;\n",
       "\n",
       "    // Then bind the event to the callback function.\n",
       "    // There are several events for cross browser compatibility.\n",
       "    script.onreadystatechange = callback;\n",
       "    script.onload = callback;\n",
       "\n",
       "    // Fire the loading\n",
       "    head.appendChild(script);\n",
       "}\n",
       "\n",
       "function showTree() {\n",
       "        \n",
       "    // var margin = {top: 20, right: 120, bottom: 20, left: 120},\n",
       "    var margin = {top: 20, right: 120, bottom: 80, left: 120},\n",
       "        width = $(\"#\"+div).width() - margin.right - margin.left,\n",
       "        height = svgHeight - margin.top - margin.bottom;\n",
       "        // TODO make height a parameter of TreeVisualizer\n",
       "\n",
       "    var i = 0,\n",
       "        root;\n",
       "\n",
       "    var tree = d3.layout.tree()\n",
       "        .size([width, height]);\n",
       "\n",
       "    var diagonal = d3.svg.diagonal();\n",
       "        //.projection(function(d) { return [d.y, d.x]; });\n",
       "        // uncomment above to make the tree go horizontally\n",
       "\n",
       "    // see http://stackoverflow.com/questions/16265123/resize-svg-when-window-is-resized-in-d3-js\n",
       "    if (d3.select(\"#\"+div+\"_svg\").empty()) {\n",
       "        $(\".d3twarn\").remove();\n",
       "        d3.select(\"#\"+div).append(\"svg\")\n",
       "            .attr(\"id\", div+\"_svg\")\n",
       "            .attr(\"width\", width + margin.right + margin.left)\n",
       "            .attr(\"height\", height + margin.top + margin.bottom);\n",
       "    }\n",
       "\n",
       "    d3.select(\"#\"+div+\"_svg\").selectAll(\"*\").remove();\n",
       "\n",
       "    var svg = d3.select(\"#\"+div+\"_svg\")\n",
       "        .append(\"g\")\n",
       "            .attr(\"transform\", \"translate(\" + margin.left + \",\" + margin.top + \")\");\n",
       "\n",
       "    // console.log(\"tree data:\");\n",
       "    // console.log(treeData[rootID]);\n",
       "    root = createDisplayNode(rootID, initExpand);\n",
       "    root.x0 = width / 2;\n",
       "    root.y0 = 0;\n",
       "\n",
       "    update(root, initDuration);\n",
       "    console.log(\"tree should appear\");\n",
       "\n",
       "    function createDisplayNode(id, expandLevel) {\n",
       "      var dnode = {\"dataID\":id,\n",
       "                   \"children\": null,\n",
       "                   \"_children\":null};\n",
       "      if (expandLevel > 0) {\n",
       "        initializeChildren(dnode, expandLevel);\n",
       "      }\n",
       "      return dnode;\n",
       "    }\n",
       "\n",
       "    function initializeChildren(d, expandLevel) {\n",
       "      // create children\n",
       "      var children = treeData.children[d.dataID];\n",
       "      d.children = [];\n",
       "      if (children) {\n",
       "        for (var i = 0; i < children.length; i++) {\n",
       "          var cid = children[i]-1;\n",
       "          d.children.push(createDisplayNode(cid, expandLevel-1));\n",
       "        }\n",
       "      }\n",
       "    }\n",
       "\n",
       "    /**\n",
       "     * Recursively called to update each node in the tree.\n",
       "     * \n",
       "     * source is a d3 node that has position, etc.\n",
       "    */\n",
       "    function update(source, duration) {\n",
       "\n",
       "      width = $(\"#\"+div).width() - margin.right - margin.left,\n",
       "      height = $(\"#\"+div).height() - margin.top - margin.bottom;\n",
       "\n",
       "      tree.size([width,height]);\n",
       "      d3.select(\"#\"+div).attr(\"width\", width + margin.right + margin.left)\n",
       "            .attr(\"height\", height + margin.top + margin.bottom);\n",
       "      d3.select(\"#\"+div+\"_svg\").attr(\"width\", width + margin.right + margin.left)\n",
       "             .attr(\"height\", height + margin.top + margin.bottom);\n",
       "\n",
       "\n",
       "      // Compute the new tree layout.\n",
       "      var nodes = tree.nodes(root).reverse(),\n",
       "          links = tree.links(nodes);\n",
       "\n",
       "\n",
       "      // Update the nodes…\n",
       "      var node = svg.selectAll(\"g.node\")\n",
       "          .data(nodes, function(d) { return d.id || (d.id = ++i); });\n",
       "\n",
       "      // Enter any new nodes at the parent's previous position.\n",
       "      var nodeEnter = node.enter().append(\"g\")\n",
       "          .attr(\"class\", \"node\")\n",
       "          .attr(\"transform\", function(d) { return \"translate(\" + source.x0 + \",\" + source.y0 + \")\"; })\n",
       "          .on(\"click\", click)\n",
       "\n",
       "      nodeEnter.append(\"circle\")\n",
       "          .attr(\"r\", \"10px\")\n",
       "          .attr(\"style\", function(d) { return treeData.style[d.dataID]; } )\n",
       "\n",
       "      var tbox = nodeEnter.append(\"text\")\n",
       "          .attr(\"y\", 25)\n",
       "          .attr(\"text-anchor\", \"middle\")\n",
       "          //.text( function(d) { return treeData.text[d.dataID]; } )\n",
       "          .style(\"fill-opacity\", 1e-6);\n",
       "\n",
       "      tbox.each( function(d) {\n",
       "          var el = d3.select(this)\n",
       "          var text = treeData.text[d.dataID];\n",
       "          var lines = text.split('\\n');\n",
       "          for (var i = 0; i < lines.length; i++) {\n",
       "              var tspan = el.append(\"tspan\").text(lines[i]);\n",
       "              if (i > 0) {\n",
       "                  tspan.attr(\"x\", 0).attr(\"dy\", \"1.2em\");\n",
       "              }\n",
       "          }\n",
       "      });\n",
       "\n",
       "      //tooltip\n",
       "      nodeEnter.append(\"title\").text( function(d) { return treeData.tooltip[d.dataID];} );\n",
       "\n",
       "      // Transition nodes to their new position.\n",
       "      var nodeUpdate = node.transition()\n",
       "          .duration(duration)\n",
       "          .attr(\"transform\", function(d) { return \"translate(\" + d.x + \",\" + d.y + \")\"; });\n",
       "\n",
       "      nodeUpdate.select(\"text\")\n",
       "          .style(\"fill-opacity\", 1);\n",
       "\n",
       "      // Transition exiting nodes to the parent's new position.\n",
       "      var nodeExit = node.exit().transition()\n",
       "          .duration(duration)\n",
       "          .attr(\"transform\", function(d) { return \"translate(\" + source.x + \",\" + source.y + \")\"; })\n",
       "          .remove();\n",
       "\n",
       "      nodeExit.select(\"text\")\n",
       "          .style(\"fill-opacity\", 1e-6);\n",
       "\n",
       "      // Update the links…\n",
       "      var link = svg.selectAll(\"path.link\")\n",
       "          .data(links, function(d) { return d.target.id; });\n",
       "\n",
       "      // Enter any new links at the parent's previous position.\n",
       "      // XXX link width should be based on transition data, not node data\n",
       "      link.enter().insert(\"path\", \"g\")\n",
       "          .attr(\"class\", \"link\")\n",
       "          .attr(\"style\", function(d) {\n",
       "              var ls = treeData.link_style[d.target.dataID];\n",
       "              return ls;\n",
       "          } )\n",
       "          .attr(\"d\", function(d) {\n",
       "            var o = {x: source.x0, y: source.y0};\n",
       "            return diagonal({source: o, target: o});\n",
       "          });\n",
       "\n",
       "      // Transition links to their new position.\n",
       "      link.transition()\n",
       "          .duration(duration)\n",
       "          .attr(\"d\", diagonal);\n",
       "\n",
       "      // Transition exiting nodes to the parent's new position.\n",
       "      link.exit().transition()\n",
       "          .duration(duration)\n",
       "          .attr(\"d\", function(d) {\n",
       "            var o = {x: source.x, y: source.y};\n",
       "            return diagonal({source: o, target: o});\n",
       "          })\n",
       "          .remove();\n",
       "\n",
       "      // Stash the old positions for transition.\n",
       "      nodes.forEach(function(d) {\n",
       "        d.x0 = d.x;\n",
       "        d.y0 = d.y;\n",
       "      });\n",
       "    }\n",
       "\n",
       "    // Toggle children on click.\n",
       "    function click(d) {\n",
       "      if (d.children) {\n",
       "        d._children = d.children;\n",
       "        d.children = null;\n",
       "      } else if (d._children) {\n",
       "        d.children = d._children;\n",
       "        d._children = null;\n",
       "      } else {\n",
       "        initializeChildren(d, 1);\n",
       "      }\n",
       "      update(d, 750);\n",
       "    }\n",
       "\n",
       "}\n",
       "\n",
       "        })();\n",
       "    </script>\n",
       "    <p class=\"d3twarn\">\n",
       "    Attempting to display the tree. If the tree is large, this may take some time.\n",
       "    </p>\n",
       "    <p class=\"d3twarn\">\n",
       "    Note: D3Trees.jl requires an internet connection. If no tree appears, please check your connection. To help fix this, please see <a href=\"https://github.com/sisl/D3Trees.jl/issues/10\">this issue</a>. You may also diagnose errors with the javascript console (Ctrl-Shift-J in chrome).\n",
       "    </p>\n",
       "    </div>\n",
       "    </body>\n",
       "    </html>\n",
       "\n"
      ],
      "text/plain": [
       "Generator\n",
       "├──RenewableGen\n",
       "│  ├──RenewableFix\n",
       "│  ├──RenewableCurtailment\n",
       "│  └──RenewableFullDispatch\n",
       "├──HydroGen\n",
       "│  ├──HydroFix\n",
       "│  ├──HydroCurtailment\n",
       "│  └──HydroStorage\n",
       "└──ThermalGen\n",
       "   ├──ThermalDispatch\n",
       "   └──ThermalGenSeason\n"
      ]
     },
     "execution_count": 23,
     "metadata": {},
     "output_type": "execute_result"
    }
   ],
   "source": [
    "TypeTree(Generator, init_expand=1)"
   ]
  },
  {
   "cell_type": "code",
   "execution_count": 24,
   "metadata": {
    "ExecuteTime": {
     "end_time": "2019-07-23T05:33:12.648000-06:00",
     "start_time": "2019-07-23T11:32:20.757Z"
    },
    "slideshow": {
     "slide_type": "slide"
    }
   },
   "outputs": [
    {
     "data": {
      "text/html": [
       "    <!DOCTYPE html>\n",
       "    <html>\n",
       "    <head>\n",
       "        <meta charset=\"UTF-8\">\n",
       "        <title>Julia D3Tree</title>\n",
       "    </head>\n",
       "    <body>\n",
       "    <div id=\"treevisUmSjvQo1\">\n",
       "    <style>\n",
       "        \n",
       ".node {\n",
       "    cursor: pointer;\n",
       "}\n",
       "\n",
       ".node circle {\n",
       "\t  fill: #fff;\n",
       "\t  stroke: steelblue;\n",
       "\t  stroke-width: 3px;\n",
       "      r: 10;\n",
       "}\n",
       "\n",
       ".node rect {\n",
       "\t  fill: #fff;\n",
       "\t  stroke: steelblue;\n",
       "\t  stroke-width: 3px;\n",
       "      x: -10;\n",
       "      y: -10;\n",
       "      width: 20;\n",
       "      height: 20;\n",
       "}\n",
       "\n",
       ".node path {\n",
       "    fill: #ffffff;\n",
       "    /* stroke: steelblue; */\n",
       "    stroke-width: 2px;\n",
       "}\n",
       ".node text {\n",
       "    font-family: Arial, Helvetica, sans-serif;\n",
       "    font-style: normal;\n",
       "    font-size: 12px;\n",
       "}\n",
       ".link /* path */ {\n",
       "    fill: none;\n",
       "    stroke: #cccccc;\n",
       "    stroke-width: 2px;\n",
       "}\n",
       ".link text {\n",
       "    font-family: Arial, Helvetica, sans-serif;\n",
       "    font-style: normal;\n",
       "    font-size: 12px;\n",
       "}\n",
       ".hover text{\n",
       "    font-family: Arial, Helvetica, sans-serif;\n",
       "    font-style: normal;\n",
       "    font-size: 12px;\n",
       "}\n",
       "\n",
       "/*\n",
       ".svg-container {\n",
       "    display: inline-block;\n",
       "    position: relative;\n",
       "    width: 100%;\n",
       "    padding-bottom: 100%;\n",
       "    vertical-align: top;\n",
       "    overflow: hidden;\n",
       "}\n",
       ".svg-content-responsive {\n",
       "    display: inline-block;\n",
       "    position: absolute;\n",
       "    top: 10px;\n",
       "    left: 0;\n",
       "}\n",
       "*/\n",
       "\n",
       "    </style>\n",
       "    <script>\n",
       "       (function(){\n",
       "        var treeData = {\"children\":[[2,7,14,15,19],[3,6],[4,5],[],[],[],[8,9,10,11,12,13],[],[],[],[],[],[],[],[16,17,18],[],[],[],[20,29],[21,22,23,25,26,27,28],[],[],[24],[],[],[],[],[],[30,32,33,34,46],[31],[],[],[],[35,39,43],[36,37,38],[],[],[],[40,41,42],[],[],[],[44,45],[],[],[47,49,50],[48],[],[],[51],[]],\"text\":[\"Component\",\"Service\",\"Reserve\",\"StaticReserve\",\"ProportionalReserve\",\"Transfer\",\"PowerSystems.TechnicalParams\",\"TechRenewable\",\"EconHydro\",\"TechThermal\",\"TechHydro\",\"EconRenewable\",\"EconThermal\",\"GenClasses\",\"Forecast\",\"Scenarios\",\"Probabilistic\",\"Deterministic\",\"Device\",\"Branch\",\"TapTransformer\",\"HVDCLine\",\"DCLine\",\"VSCDCLine\",\"PhaseShiftingTransformer\",\"Transformer2W\",\"Line\",\"MonitoredLine\",\"Injection\",\"Storage\",\"GenericBattery\",\"LoadZones\",\"Bus\",\"Generator\",\"RenewableGen\",\"RenewableFix\",\"RenewableCurtailment\",\"RenewableFullDispatch\",\"HydroGen\",\"HydroFix\",\"HydroCurtailment\",\"HydroStorage\",\"ThermalGen\",\"ThermalDispatch\",\"ThermalGenSeason\",\"ElectricLoad\",\"ControllableLoad\",\"InterruptibleLoad\",\"FixedAdmittance\",\"StaticLoad\",\"PowerLoad\"],\"tooltip\":[\"Abstract\",\"Abstract\",\"Abstract\",\"name\\ncontributingdevices\\ntimeframe\\nrequirement\",\"name\\ncontributingdevices\\ntimeframe\\nrequirement\",\"name\\ncontributingdevices\\ntimeframe\\nrequirement\",\"Abstract\",\"installedcapacity\\nreactivepowerlimits\\npowerfactor\",\"curtailpenalty\\nvariablecost\",\"activepower\\nactivepowerlimits\\nreactivepower\\nreactivepowerlimits\\nramplimits\\ntimelimits\",\"installedcapacity\\nactivepower\\nactivepowerlimits\\nreactivepower\\nreactivepowerlimits\\nramplimits\\ntimelimits\",\"curtailpenalty\\nvariablecost\",\"capacity\\nvariablecost\\nfixedcost\\nstartupcost\\nshutdncost\\nannualcapacityfactor\",\"thermal\\nrenewable\\nhydro\",\"Abstract\",\"horizon\\nresolution\\ninterval\\ninitialtime\\nscenarioquantity\\ndata\",\"horizon\\nresolution\\ninterval\\ninitialtime\\npercentilequantity\\ndata\",\"device\\nhorizon\\nresolution\\ninterval\\ninitialtime\\ndata\",\"Abstract\",\"Abstract\",\"name\\navailable\\nconnectionpoints\\nr\\nx\\nprimaryshunt\\ntap\\nrate\",\"name\\navailable\\nconnectionpoints\\nactivepowerlimits_from\\nactivepowerlimits_to\\nreactivepowerlimits_from\\nreactivepowerlimits_to\\nloss\",\"Abstract\",\"name\\navailable\\nconnectionpoints\\nrectifier_taplimits\\nrectifier_xrc\\nrectifier_firingangle\\ninverter_taplimits\\ninverter_xrc\\ninverter_firingangle\",\"name\\navailable\\nconnectionpoints\\nr\\nx\\nprimaryshunt\\ntap\\nα\\nrate\",\"name\\navailable\\nconnectionpoints\\nr\\nx\\nprimaryshunt\\nrate\",\"name\\navailable\\nconnectionpoints\\nr\\nx\\nb\\nrate\\nanglelimits\",\"name\\navailable\\nconnectionpoints\\nr\\nx\\nb\\nflowlimits\\nrate\\nanglelimits\",\"Abstract\",\"Abstract\",\"name\\navailable\\nbus\\nenergy\\ncapacity\\nactivepower\\ninputactivepowerlimits\\noutputactivepowerlimits\\nefficiency\\nreactivepower\\nreactivepowerlimits\",\"number\\nname\\nbuses\\nmaxactivepower\\nmaxreactivepower\",\"number\\nname\\nbustype\\nangle\\nvoltage\\nvoltagelimits\\nbasevoltage\",\"Abstract\",\"Abstract\",\"name\\navailable\\nbus\\ntech\\nscalingfactor\",\"name\\navailable\\nbus\\ntech\\necon\\nscalingfactor\",\"name\\navailable\\nbus\\ntech\\necon\\nscalingfactor\",\"Abstract\",\"name\\navailable\\nbus\\ntech\\nscalingfactor\",\"name\\navailable\\nbus\\ntech\\necon\\nscalingfactor\",\"name\\navailable\\nbus\\ntech\\necon\\nstoragecapacity\\nscalingfactor\",\"Abstract\",\"name\\navailable\\nbus\\ntech\\necon\",\"name\\navailable\\nbus\\ntech\\necon\\nscalingfactor\",\"Abstract\",\"Abstract\",\"name\\navailable\\nbus\\nmodel\\nmaxactivepower\\nmaxreactivepower\\nsheddingcost\\nscalingfactor\",\"name\\navailable\\nbus\\nY\",\"Abstract\",\"name\\navailable\\nbus\\nmaxactivepower\\nmaxreactivepower\\nscalingfactor\"],\"style\":[\"\",\"\",\"\",\"\",\"\",\"\",\"\",\"\",\"\",\"\",\"\",\"\",\"\",\"\",\"\",\"\",\"\",\"\",\"\",\"\",\"\",\"\",\"\",\"\",\"\",\"\",\"\",\"\",\"\",\"\",\"\",\"\",\"\",\"\",\"\",\"\",\"\",\"\",\"\",\"\",\"\",\"\",\"\",\"\",\"\",\"\",\"\",\"\",\"\",\"\",\"\"],\"link_style\":[\"\",\"\",\"\",\"\",\"\",\"\",\"\",\"\",\"\",\"\",\"\",\"\",\"\",\"\",\"\",\"\",\"\",\"\",\"\",\"\",\"\",\"\",\"\",\"\",\"\",\"\",\"\",\"\",\"\",\"\",\"\",\"\",\"\",\"\",\"\",\"\",\"\",\"\",\"\",\"\",\"\",\"\",\"\",\"\",\"\",\"\",\"\",\"\",\"\",\"\",\"\"],\"title\":\"Julia D3Tree\",\"options\":{\"tooltip\":[\"Abstract\",\"Abstract\",\"Abstract\",\"name\\ncontributingdevices\\ntimeframe\\nrequirement\",\"name\\ncontributingdevices\\ntimeframe\\nrequirement\",\"name\\ncontributingdevices\\ntimeframe\\nrequirement\",\"Abstract\",\"installedcapacity\\nreactivepowerlimits\\npowerfactor\",\"curtailpenalty\\nvariablecost\",\"activepower\\nactivepowerlimits\\nreactivepower\\nreactivepowerlimits\\nramplimits\\ntimelimits\",\"installedcapacity\\nactivepower\\nactivepowerlimits\\nreactivepower\\nreactivepowerlimits\\nramplimits\\ntimelimits\",\"curtailpenalty\\nvariablecost\",\"capacity\\nvariablecost\\nfixedcost\\nstartupcost\\nshutdncost\\nannualcapacityfactor\",\"thermal\\nrenewable\\nhydro\",\"Abstract\",\"horizon\\nresolution\\ninterval\\ninitialtime\\nscenarioquantity\\ndata\",\"horizon\\nresolution\\ninterval\\ninitialtime\\npercentilequantity\\ndata\",\"device\\nhorizon\\nresolution\\ninterval\\ninitialtime\\ndata\",\"Abstract\",\"Abstract\",\"name\\navailable\\nconnectionpoints\\nr\\nx\\nprimaryshunt\\ntap\\nrate\",\"name\\navailable\\nconnectionpoints\\nactivepowerlimits_from\\nactivepowerlimits_to\\nreactivepowerlimits_from\\nreactivepowerlimits_to\\nloss\",\"Abstract\",\"name\\navailable\\nconnectionpoints\\nrectifier_taplimits\\nrectifier_xrc\\nrectifier_firingangle\\ninverter_taplimits\\ninverter_xrc\\ninverter_firingangle\",\"name\\navailable\\nconnectionpoints\\nr\\nx\\nprimaryshunt\\ntap\\nα\\nrate\",\"name\\navailable\\nconnectionpoints\\nr\\nx\\nprimaryshunt\\nrate\",\"name\\navailable\\nconnectionpoints\\nr\\nx\\nb\\nrate\\nanglelimits\",\"name\\navailable\\nconnectionpoints\\nr\\nx\\nb\\nflowlimits\\nrate\\nanglelimits\",\"Abstract\",\"Abstract\",\"name\\navailable\\nbus\\nenergy\\ncapacity\\nactivepower\\ninputactivepowerlimits\\noutputactivepowerlimits\\nefficiency\\nreactivepower\\nreactivepowerlimits\",\"number\\nname\\nbuses\\nmaxactivepower\\nmaxreactivepower\",\"number\\nname\\nbustype\\nangle\\nvoltage\\nvoltagelimits\\nbasevoltage\",\"Abstract\",\"Abstract\",\"name\\navailable\\nbus\\ntech\\nscalingfactor\",\"name\\navailable\\nbus\\ntech\\necon\\nscalingfactor\",\"name\\navailable\\nbus\\ntech\\necon\\nscalingfactor\",\"Abstract\",\"name\\navailable\\nbus\\ntech\\nscalingfactor\",\"name\\navailable\\nbus\\ntech\\necon\\nscalingfactor\",\"name\\navailable\\nbus\\ntech\\necon\\nstoragecapacity\\nscalingfactor\",\"Abstract\",\"name\\navailable\\nbus\\ntech\\necon\",\"name\\navailable\\nbus\\ntech\\necon\\nscalingfactor\",\"Abstract\",\"Abstract\",\"name\\navailable\\nbus\\nmodel\\nmaxactivepower\\nmaxreactivepower\\nsheddingcost\\nscalingfactor\",\"name\\navailable\\nbus\\nY\",\"Abstract\",\"name\\navailable\\nbus\\nmaxactivepower\\nmaxreactivepower\\nscalingfactor\"],\"text\":[\"Component\",\"Service\",\"Reserve\",\"StaticReserve\",\"ProportionalReserve\",\"Transfer\",\"PowerSystems.TechnicalParams\",\"TechRenewable\",\"EconHydro\",\"TechThermal\",\"TechHydro\",\"EconRenewable\",\"EconThermal\",\"GenClasses\",\"Forecast\",\"Scenarios\",\"Probabilistic\",\"Deterministic\",\"Device\",\"Branch\",\"TapTransformer\",\"HVDCLine\",\"DCLine\",\"VSCDCLine\",\"PhaseShiftingTransformer\",\"Transformer2W\",\"Line\",\"MonitoredLine\",\"Injection\",\"Storage\",\"GenericBattery\",\"LoadZones\",\"Bus\",\"Generator\",\"RenewableGen\",\"RenewableFix\",\"RenewableCurtailment\",\"RenewableFullDispatch\",\"HydroGen\",\"HydroFix\",\"HydroCurtailment\",\"HydroStorage\",\"ThermalGen\",\"ThermalDispatch\",\"ThermalGenSeason\",\"ElectricLoad\",\"ControllableLoad\",\"InterruptibleLoad\",\"FixedAdmittance\",\"StaticLoad\",\"PowerLoad\"],\"init_expand\":1}};\n",
       "        var rootID = 1-1;\n",
       "        var div = \"treevisUmSjvQo1\";\n",
       "        var initExpand = 1\n",
       "        var initDuration = 750\n",
       "        var svgHeight = 600\n",
       "        if (typeof $ === 'undefined') {\n",
       "    loadScript(\"https://code.jquery.com/jquery-3.1.1.min.js\", run);\n",
       "} else {\n",
       "    run();\n",
       "}\n",
       "\n",
       "function run() {\n",
       "    if (typeof d3 === 'undefined') {\n",
       "        loadScript(\"https://d3js.org/d3.v3.js\", showTree);\n",
       "    } else {\n",
       "        showTree();\n",
       "    }\n",
       "}\n",
       "\n",
       "function loadScript(url, callback)\n",
       "{\n",
       "    console.log(\"starting script load...\")\n",
       "    // Adding the script tag to the head as suggested before\n",
       "    var head = document.getElementsByTagName('head')[0];\n",
       "    var script = document.createElement('script');\n",
       "    script.type = 'text/javascript';\n",
       "    script.src = url;\n",
       "\n",
       "    // Then bind the event to the callback function.\n",
       "    // There are several events for cross browser compatibility.\n",
       "    script.onreadystatechange = callback;\n",
       "    script.onload = callback;\n",
       "\n",
       "    // Fire the loading\n",
       "    head.appendChild(script);\n",
       "}\n",
       "\n",
       "function showTree() {\n",
       "        \n",
       "    // var margin = {top: 20, right: 120, bottom: 20, left: 120},\n",
       "    var margin = {top: 20, right: 120, bottom: 80, left: 120},\n",
       "        width = $(\"#\"+div).width() - margin.right - margin.left,\n",
       "        height = svgHeight - margin.top - margin.bottom;\n",
       "        // TODO make height a parameter of TreeVisualizer\n",
       "\n",
       "    var i = 0,\n",
       "        root;\n",
       "\n",
       "    var tree = d3.layout.tree()\n",
       "        .size([width, height]);\n",
       "\n",
       "    var diagonal = d3.svg.diagonal();\n",
       "        //.projection(function(d) { return [d.y, d.x]; });\n",
       "        // uncomment above to make the tree go horizontally\n",
       "\n",
       "    // see http://stackoverflow.com/questions/16265123/resize-svg-when-window-is-resized-in-d3-js\n",
       "    if (d3.select(\"#\"+div+\"_svg\").empty()) {\n",
       "        $(\".d3twarn\").remove();\n",
       "        d3.select(\"#\"+div).append(\"svg\")\n",
       "            .attr(\"id\", div+\"_svg\")\n",
       "            .attr(\"width\", width + margin.right + margin.left)\n",
       "            .attr(\"height\", height + margin.top + margin.bottom);\n",
       "    }\n",
       "\n",
       "    d3.select(\"#\"+div+\"_svg\").selectAll(\"*\").remove();\n",
       "\n",
       "    var svg = d3.select(\"#\"+div+\"_svg\")\n",
       "        .append(\"g\")\n",
       "            .attr(\"transform\", \"translate(\" + margin.left + \",\" + margin.top + \")\");\n",
       "\n",
       "    // console.log(\"tree data:\");\n",
       "    // console.log(treeData[rootID]);\n",
       "    root = createDisplayNode(rootID, initExpand);\n",
       "    root.x0 = width / 2;\n",
       "    root.y0 = 0;\n",
       "\n",
       "    update(root, initDuration);\n",
       "    console.log(\"tree should appear\");\n",
       "\n",
       "    function createDisplayNode(id, expandLevel) {\n",
       "      var dnode = {\"dataID\":id,\n",
       "                   \"children\": null,\n",
       "                   \"_children\":null};\n",
       "      if (expandLevel > 0) {\n",
       "        initializeChildren(dnode, expandLevel);\n",
       "      }\n",
       "      return dnode;\n",
       "    }\n",
       "\n",
       "    function initializeChildren(d, expandLevel) {\n",
       "      // create children\n",
       "      var children = treeData.children[d.dataID];\n",
       "      d.children = [];\n",
       "      if (children) {\n",
       "        for (var i = 0; i < children.length; i++) {\n",
       "          var cid = children[i]-1;\n",
       "          d.children.push(createDisplayNode(cid, expandLevel-1));\n",
       "        }\n",
       "      }\n",
       "    }\n",
       "\n",
       "    /**\n",
       "     * Recursively called to update each node in the tree.\n",
       "     * \n",
       "     * source is a d3 node that has position, etc.\n",
       "    */\n",
       "    function update(source, duration) {\n",
       "\n",
       "      width = $(\"#\"+div).width() - margin.right - margin.left,\n",
       "      height = $(\"#\"+div).height() - margin.top - margin.bottom;\n",
       "\n",
       "      tree.size([width,height]);\n",
       "      d3.select(\"#\"+div).attr(\"width\", width + margin.right + margin.left)\n",
       "            .attr(\"height\", height + margin.top + margin.bottom);\n",
       "      d3.select(\"#\"+div+\"_svg\").attr(\"width\", width + margin.right + margin.left)\n",
       "             .attr(\"height\", height + margin.top + margin.bottom);\n",
       "\n",
       "\n",
       "      // Compute the new tree layout.\n",
       "      var nodes = tree.nodes(root).reverse(),\n",
       "          links = tree.links(nodes);\n",
       "\n",
       "\n",
       "      // Update the nodes…\n",
       "      var node = svg.selectAll(\"g.node\")\n",
       "          .data(nodes, function(d) { return d.id || (d.id = ++i); });\n",
       "\n",
       "      // Enter any new nodes at the parent's previous position.\n",
       "      var nodeEnter = node.enter().append(\"g\")\n",
       "          .attr(\"class\", \"node\")\n",
       "          .attr(\"transform\", function(d) { return \"translate(\" + source.x0 + \",\" + source.y0 + \")\"; })\n",
       "          .on(\"click\", click)\n",
       "\n",
       "      nodeEnter.append(\"circle\")\n",
       "          .attr(\"r\", \"10px\")\n",
       "          .attr(\"style\", function(d) { return treeData.style[d.dataID]; } )\n",
       "\n",
       "      var tbox = nodeEnter.append(\"text\")\n",
       "          .attr(\"y\", 25)\n",
       "          .attr(\"text-anchor\", \"middle\")\n",
       "          //.text( function(d) { return treeData.text[d.dataID]; } )\n",
       "          .style(\"fill-opacity\", 1e-6);\n",
       "\n",
       "      tbox.each( function(d) {\n",
       "          var el = d3.select(this)\n",
       "          var text = treeData.text[d.dataID];\n",
       "          var lines = text.split('\\n');\n",
       "          for (var i = 0; i < lines.length; i++) {\n",
       "              var tspan = el.append(\"tspan\").text(lines[i]);\n",
       "              if (i > 0) {\n",
       "                  tspan.attr(\"x\", 0).attr(\"dy\", \"1.2em\");\n",
       "              }\n",
       "          }\n",
       "      });\n",
       "\n",
       "      //tooltip\n",
       "      nodeEnter.append(\"title\").text( function(d) { return treeData.tooltip[d.dataID];} );\n",
       "\n",
       "      // Transition nodes to their new position.\n",
       "      var nodeUpdate = node.transition()\n",
       "          .duration(duration)\n",
       "          .attr(\"transform\", function(d) { return \"translate(\" + d.x + \",\" + d.y + \")\"; });\n",
       "\n",
       "      nodeUpdate.select(\"text\")\n",
       "          .style(\"fill-opacity\", 1);\n",
       "\n",
       "      // Transition exiting nodes to the parent's new position.\n",
       "      var nodeExit = node.exit().transition()\n",
       "          .duration(duration)\n",
       "          .attr(\"transform\", function(d) { return \"translate(\" + source.x + \",\" + source.y + \")\"; })\n",
       "          .remove();\n",
       "\n",
       "      nodeExit.select(\"text\")\n",
       "          .style(\"fill-opacity\", 1e-6);\n",
       "\n",
       "      // Update the links…\n",
       "      var link = svg.selectAll(\"path.link\")\n",
       "          .data(links, function(d) { return d.target.id; });\n",
       "\n",
       "      // Enter any new links at the parent's previous position.\n",
       "      // XXX link width should be based on transition data, not node data\n",
       "      link.enter().insert(\"path\", \"g\")\n",
       "          .attr(\"class\", \"link\")\n",
       "          .attr(\"style\", function(d) {\n",
       "              var ls = treeData.link_style[d.target.dataID];\n",
       "              return ls;\n",
       "          } )\n",
       "          .attr(\"d\", function(d) {\n",
       "            var o = {x: source.x0, y: source.y0};\n",
       "            return diagonal({source: o, target: o});\n",
       "          });\n",
       "\n",
       "      // Transition links to their new position.\n",
       "      link.transition()\n",
       "          .duration(duration)\n",
       "          .attr(\"d\", diagonal);\n",
       "\n",
       "      // Transition exiting nodes to the parent's new position.\n",
       "      link.exit().transition()\n",
       "          .duration(duration)\n",
       "          .attr(\"d\", function(d) {\n",
       "            var o = {x: source.x, y: source.y};\n",
       "            return diagonal({source: o, target: o});\n",
       "          })\n",
       "          .remove();\n",
       "\n",
       "      // Stash the old positions for transition.\n",
       "      nodes.forEach(function(d) {\n",
       "        d.x0 = d.x;\n",
       "        d.y0 = d.y;\n",
       "      });\n",
       "    }\n",
       "\n",
       "    // Toggle children on click.\n",
       "    function click(d) {\n",
       "      if (d.children) {\n",
       "        d._children = d.children;\n",
       "        d.children = null;\n",
       "      } else if (d._children) {\n",
       "        d.children = d._children;\n",
       "        d._children = null;\n",
       "      } else {\n",
       "        initializeChildren(d, 1);\n",
       "      }\n",
       "      update(d, 750);\n",
       "    }\n",
       "\n",
       "}\n",
       "\n",
       "        })();\n",
       "    </script>\n",
       "    <p class=\"d3twarn\">\n",
       "    Attempting to display the tree. If the tree is large, this may take some time.\n",
       "    </p>\n",
       "    <p class=\"d3twarn\">\n",
       "    Note: D3Trees.jl requires an internet connection. If no tree appears, please check your connection. To help fix this, please see <a href=\"https://github.com/sisl/D3Trees.jl/issues/10\">this issue</a>. You may also diagnose errors with the javascript console (Ctrl-Shift-J in chrome).\n",
       "    </p>\n",
       "    </div>\n",
       "    </body>\n",
       "    </html>\n",
       "\n"
      ],
      "text/plain": [
       "Component\n",
       "├──Service\n",
       "│  ├──Reserve\n",
       "│  │  ├──StaticReserve (0 children)\n",
       "│  │  └──ProportionalReserve (0 children)\n",
       "│  └──Transfer\n",
       "├──PowerSystems.TechnicalParams\n",
       "│  ├──TechRenewable\n",
       "│  ├──EconHydro\n",
       "│  ├──TechThermal\n",
       "│  ├──TechHydro\n",
       "│  ├──EconRenewable\n",
       "│  └──EconThermal\n",
       "├──GenClasses\n",
       "├──Forecast\n",
       "│  ├──Scenarios\n",
       "│  ├──Probabilistic\n",
       "│  └──Deterministic\n",
       "└──Device\n",
       "   ├──Branch\n",
       "   │  ├──TapTransformer (0 children)\n",
       "   │  ├──HVDCLine (0 children)\n",
       "   │  ├──DCLine (1 children)\n",
       "   │  ├──PhaseShiftingTransformer (0 children)\n",
       "   │  ├──Transformer2W (0 children)\n",
       "   │  ├──Line (0 children)\n",
       "   │  └──MonitoredLine (0 children)\n",
       "   └──Injection\n",
       "      ├──Storage (1 children)\n",
       "      ├──LoadZones (0 children)\n",
       "      ├──Bus (0 children)\n",
       "      ├──Generator (3 children)\n",
       "      └──ElectricLoad (3 children)\n"
      ]
     },
     "execution_count": 24,
     "metadata": {},
     "output_type": "execute_result"
    }
   ],
   "source": [
    "TypeTree(PowerSystems.Component, init_expand=1)"
   ]
  },
  {
   "cell_type": "markdown",
   "metadata": {
    "slideshow": {
     "slide_type": "slide"
    }
   },
   "source": [
    "## PowerSimulations.jl\n",
    "\n",
    "- Provide a flexible modeling framework that can accommodate problems of different complexity and at different time-scales.\n",
    "    - Production Cost Modeling\n",
    "    - Capacity Expansion Modeling\n",
    "    - Load Flow and Contingency Analysis\n",
    "- Streamline the construction of large scale optimization problems to avoid repetition of work when adding/modifying model details.\n",
    "- Exploit Julia's capabilities to improve computational performance of large scale power system simulations.\n"
   ]
  },
  {
   "cell_type": "code",
   "execution_count": 25,
   "metadata": {
    "ExecuteTime": {
     "end_time": "2019-07-23T05:33:21.045000-06:00",
     "start_time": "2019-07-23T11:32:20.760Z"
    },
    "slideshow": {
     "slide_type": "slide"
    }
   },
   "outputs": [
    {
     "data": {
      "text/plain": [
       "40.0"
      ]
     },
     "execution_count": 25,
     "metadata": {},
     "output_type": "execute_result"
    }
   ],
   "source": [
    "ed_model = PowerSimulations.EconomicDispatch(sys, PowerSimulations.CopperPlatePowerModel, \n",
    "                                        optimizer = with_optimizer(GLPK.Optimizer));\n",
    "res_5 = @suppress solve_op_model!(ed_model);\n",
    "res_5.variables[:Pth][:Alta][1]"
   ]
  },
  {
   "cell_type": "markdown",
   "metadata": {
    "slideshow": {
     "slide_type": "slide"
    }
   },
   "source": [
    "[PowerSimulations.jl](https://github.com/nrel/powersimulations.jl) provides access to optimal scheduling formulations for devices in a `PowerSystem`. A number of different formulations are enabled by the `AbstractDeviceFormulation` type tree:"
   ]
  },
  {
   "cell_type": "code",
   "execution_count": 26,
   "metadata": {
    "ExecuteTime": {
     "end_time": "2019-07-23T05:33:22.270000-06:00",
     "start_time": "2019-07-23T11:32:20.764Z"
    },
    "slideshow": {
     "slide_type": "-"
    }
   },
   "outputs": [
    {
     "data": {
      "text/html": [
       "    <!DOCTYPE html>\n",
       "    <html>\n",
       "    <head>\n",
       "        <meta charset=\"UTF-8\">\n",
       "        <title>Julia D3Tree</title>\n",
       "    </head>\n",
       "    <body>\n",
       "    <div id=\"treevisiFtqxTwg\">\n",
       "    <style>\n",
       "        \n",
       ".node {\n",
       "    cursor: pointer;\n",
       "}\n",
       "\n",
       ".node circle {\n",
       "\t  fill: #fff;\n",
       "\t  stroke: steelblue;\n",
       "\t  stroke-width: 3px;\n",
       "      r: 10;\n",
       "}\n",
       "\n",
       ".node rect {\n",
       "\t  fill: #fff;\n",
       "\t  stroke: steelblue;\n",
       "\t  stroke-width: 3px;\n",
       "      x: -10;\n",
       "      y: -10;\n",
       "      width: 20;\n",
       "      height: 20;\n",
       "}\n",
       "\n",
       ".node path {\n",
       "    fill: #ffffff;\n",
       "    /* stroke: steelblue; */\n",
       "    stroke-width: 2px;\n",
       "}\n",
       ".node text {\n",
       "    font-family: Arial, Helvetica, sans-serif;\n",
       "    font-style: normal;\n",
       "    font-size: 12px;\n",
       "}\n",
       ".link /* path */ {\n",
       "    fill: none;\n",
       "    stroke: #cccccc;\n",
       "    stroke-width: 2px;\n",
       "}\n",
       ".link text {\n",
       "    font-family: Arial, Helvetica, sans-serif;\n",
       "    font-style: normal;\n",
       "    font-size: 12px;\n",
       "}\n",
       ".hover text{\n",
       "    font-family: Arial, Helvetica, sans-serif;\n",
       "    font-style: normal;\n",
       "    font-size: 12px;\n",
       "}\n",
       "\n",
       "/*\n",
       ".svg-container {\n",
       "    display: inline-block;\n",
       "    position: relative;\n",
       "    width: 100%;\n",
       "    padding-bottom: 100%;\n",
       "    vertical-align: top;\n",
       "    overflow: hidden;\n",
       "}\n",
       ".svg-content-responsive {\n",
       "    display: inline-block;\n",
       "    position: absolute;\n",
       "    top: 10px;\n",
       "    left: 0;\n",
       "}\n",
       "*/\n",
       "\n",
       "    </style>\n",
       "    <script>\n",
       "       (function(){\n",
       "        var treeData = {\"children\":[[2,8,15,19,21,26],[3,4],[],[5,6,7],[],[],[],[9,10,12],[],[11],[],[13,14],[],[],[16,18],[17],[],[],[20],[],[22,25],[23,24],[],[],[],[27,30,31],[28,29],[],[],[],[]],\"text\":[\"PowerSimulations\\nAbstractDeviceFormulation\",\"PowerSimulations\\nAbstractThermalFormulation\",\"PowerSimulations\\nThermalUnitCommitment\",\"PowerSimulations\\nAbstractThermalDispatchForm\",\"PowerSimulations\\nThermalDispatchNoMin\",\"PowerSimulations\\nThermalRampLimited\",\"PowerSimulations\\nThermalDispatch\",\"PowerSimulations\\nAbstractBranchFormulation\",\"PowerSimulations\\nAbstractTransformerForm\",\"PowerSimulations\\nAbstractDCLineForm\",\"PowerSimulations\\nSimpleHVDC\",\"PowerSimulations\\nAbstractLineForm\",\"PowerSimulations\\nPiLine\",\"PowerSimulations\\nSeriesLine\",\"PowerSimulations\\nAbstractLoadFormulation\",\"PowerSimulations\\nAbstractControllablePowerLoadForm\",\"PowerSimulations\\nInterruptiblePowerLoad\",\"PowerSimulations\\nStaticPowerLoad\",\"PowerSimulations\\nAbstractStorageForm\",\"PowerSimulations\\nBookKeepingModel\",\"PowerSimulations\\nAbstractRenewableFormulation\",\"PowerSimulations\\nAbstractRenewableDispatchForm\",\"PowerSimulations\\nRenewableFullDispatch\",\"PowerSimulations\\nRenewableConstantPowerFactor\",\"PowerSimulations\\nRenewableFixed\",\"PowerSimulations\\nAbstractHydroFormulation\",\"PowerSimulations\\nAbstractHydroDispatchForm\",\"PowerSimulations\\nHydroDispatchRunOfRiver\",\"PowerSimulations\\nHydroDispatchSeasonalFlow\",\"PowerSimulations\\nHydroCommitmentSeasonalFlow\",\"PowerSimulations\\nHydroCommitmentRunOfRiver\"],\"tooltip\":[\"Abstract\",\"Abstract\",\"\",\"Abstract\",\"\",\"\",\"\",\"Abstract\",\"\",\"Abstract\",\"\",\"Abstract\",\"\",\"\",\"Abstract\",\"Abstract\",\"\",\"\",\"Abstract\",\"\",\"Abstract\",\"Abstract\",\"\",\"\",\"\",\"Abstract\",\"Abstract\",\"\",\"\",\"\",\"\"],\"style\":[\"\",\"\",\"\",\"\",\"\",\"\",\"\",\"\",\"\",\"\",\"\",\"\",\"\",\"\",\"\",\"\",\"\",\"\",\"\",\"\",\"\",\"\",\"\",\"\",\"\",\"\",\"\",\"\",\"\",\"\",\"\"],\"link_style\":[\"\",\"\",\"\",\"\",\"\",\"\",\"\",\"\",\"\",\"\",\"\",\"\",\"\",\"\",\"\",\"\",\"\",\"\",\"\",\"\",\"\",\"\",\"\",\"\",\"\",\"\",\"\",\"\",\"\",\"\",\"\"],\"title\":\"Julia D3Tree\",\"options\":{\"tooltip\":[\"Abstract\",\"Abstract\",\"\",\"Abstract\",\"\",\"\",\"\",\"Abstract\",\"\",\"Abstract\",\"\",\"Abstract\",\"\",\"\",\"Abstract\",\"Abstract\",\"\",\"\",\"Abstract\",\"\",\"Abstract\",\"Abstract\",\"\",\"\",\"\",\"Abstract\",\"Abstract\",\"\",\"\",\"\",\"\"],\"text\":[\"PowerSimulations\\nAbstractDeviceFormulation\",\"PowerSimulations\\nAbstractThermalFormulation\",\"PowerSimulations\\nThermalUnitCommitment\",\"PowerSimulations\\nAbstractThermalDispatchForm\",\"PowerSimulations\\nThermalDispatchNoMin\",\"PowerSimulations\\nThermalRampLimited\",\"PowerSimulations\\nThermalDispatch\",\"PowerSimulations\\nAbstractBranchFormulation\",\"PowerSimulations\\nAbstractTransformerForm\",\"PowerSimulations\\nAbstractDCLineForm\",\"PowerSimulations\\nSimpleHVDC\",\"PowerSimulations\\nAbstractLineForm\",\"PowerSimulations\\nPiLine\",\"PowerSimulations\\nSeriesLine\",\"PowerSimulations\\nAbstractLoadFormulation\",\"PowerSimulations\\nAbstractControllablePowerLoadForm\",\"PowerSimulations\\nInterruptiblePowerLoad\",\"PowerSimulations\\nStaticPowerLoad\",\"PowerSimulations\\nAbstractStorageForm\",\"PowerSimulations\\nBookKeepingModel\",\"PowerSimulations\\nAbstractRenewableFormulation\",\"PowerSimulations\\nAbstractRenewableDispatchForm\",\"PowerSimulations\\nRenewableFullDispatch\",\"PowerSimulations\\nRenewableConstantPowerFactor\",\"PowerSimulations\\nRenewableFixed\",\"PowerSimulations\\nAbstractHydroFormulation\",\"PowerSimulations\\nAbstractHydroDispatchForm\",\"PowerSimulations\\nHydroDispatchRunOfRiver\",\"PowerSimulations\\nHydroDispatchSeasonalFlow\",\"PowerSimulations\\nHydroCommitmentSeasonalFlow\",\"PowerSimulations\\nHydroCommitmentRunOfRiver\"],\"init_expand\":1}};\n",
       "        var rootID = 1-1;\n",
       "        var div = \"treevisiFtqxTwg\";\n",
       "        var initExpand = 1\n",
       "        var initDuration = 750\n",
       "        var svgHeight = 600\n",
       "        if (typeof $ === 'undefined') {\n",
       "    loadScript(\"https://code.jquery.com/jquery-3.1.1.min.js\", run);\n",
       "} else {\n",
       "    run();\n",
       "}\n",
       "\n",
       "function run() {\n",
       "    if (typeof d3 === 'undefined') {\n",
       "        loadScript(\"https://d3js.org/d3.v3.js\", showTree);\n",
       "    } else {\n",
       "        showTree();\n",
       "    }\n",
       "}\n",
       "\n",
       "function loadScript(url, callback)\n",
       "{\n",
       "    console.log(\"starting script load...\")\n",
       "    // Adding the script tag to the head as suggested before\n",
       "    var head = document.getElementsByTagName('head')[0];\n",
       "    var script = document.createElement('script');\n",
       "    script.type = 'text/javascript';\n",
       "    script.src = url;\n",
       "\n",
       "    // Then bind the event to the callback function.\n",
       "    // There are several events for cross browser compatibility.\n",
       "    script.onreadystatechange = callback;\n",
       "    script.onload = callback;\n",
       "\n",
       "    // Fire the loading\n",
       "    head.appendChild(script);\n",
       "}\n",
       "\n",
       "function showTree() {\n",
       "        \n",
       "    // var margin = {top: 20, right: 120, bottom: 20, left: 120},\n",
       "    var margin = {top: 20, right: 120, bottom: 80, left: 120},\n",
       "        width = $(\"#\"+div).width() - margin.right - margin.left,\n",
       "        height = svgHeight - margin.top - margin.bottom;\n",
       "        // TODO make height a parameter of TreeVisualizer\n",
       "\n",
       "    var i = 0,\n",
       "        root;\n",
       "\n",
       "    var tree = d3.layout.tree()\n",
       "        .size([width, height]);\n",
       "\n",
       "    var diagonal = d3.svg.diagonal();\n",
       "        //.projection(function(d) { return [d.y, d.x]; });\n",
       "        // uncomment above to make the tree go horizontally\n",
       "\n",
       "    // see http://stackoverflow.com/questions/16265123/resize-svg-when-window-is-resized-in-d3-js\n",
       "    if (d3.select(\"#\"+div+\"_svg\").empty()) {\n",
       "        $(\".d3twarn\").remove();\n",
       "        d3.select(\"#\"+div).append(\"svg\")\n",
       "            .attr(\"id\", div+\"_svg\")\n",
       "            .attr(\"width\", width + margin.right + margin.left)\n",
       "            .attr(\"height\", height + margin.top + margin.bottom);\n",
       "    }\n",
       "\n",
       "    d3.select(\"#\"+div+\"_svg\").selectAll(\"*\").remove();\n",
       "\n",
       "    var svg = d3.select(\"#\"+div+\"_svg\")\n",
       "        .append(\"g\")\n",
       "            .attr(\"transform\", \"translate(\" + margin.left + \",\" + margin.top + \")\");\n",
       "\n",
       "    // console.log(\"tree data:\");\n",
       "    // console.log(treeData[rootID]);\n",
       "    root = createDisplayNode(rootID, initExpand);\n",
       "    root.x0 = width / 2;\n",
       "    root.y0 = 0;\n",
       "\n",
       "    update(root, initDuration);\n",
       "    console.log(\"tree should appear\");\n",
       "\n",
       "    function createDisplayNode(id, expandLevel) {\n",
       "      var dnode = {\"dataID\":id,\n",
       "                   \"children\": null,\n",
       "                   \"_children\":null};\n",
       "      if (expandLevel > 0) {\n",
       "        initializeChildren(dnode, expandLevel);\n",
       "      }\n",
       "      return dnode;\n",
       "    }\n",
       "\n",
       "    function initializeChildren(d, expandLevel) {\n",
       "      // create children\n",
       "      var children = treeData.children[d.dataID];\n",
       "      d.children = [];\n",
       "      if (children) {\n",
       "        for (var i = 0; i < children.length; i++) {\n",
       "          var cid = children[i]-1;\n",
       "          d.children.push(createDisplayNode(cid, expandLevel-1));\n",
       "        }\n",
       "      }\n",
       "    }\n",
       "\n",
       "    /**\n",
       "     * Recursively called to update each node in the tree.\n",
       "     * \n",
       "     * source is a d3 node that has position, etc.\n",
       "    */\n",
       "    function update(source, duration) {\n",
       "\n",
       "      width = $(\"#\"+div).width() - margin.right - margin.left,\n",
       "      height = $(\"#\"+div).height() - margin.top - margin.bottom;\n",
       "\n",
       "      tree.size([width,height]);\n",
       "      d3.select(\"#\"+div).attr(\"width\", width + margin.right + margin.left)\n",
       "            .attr(\"height\", height + margin.top + margin.bottom);\n",
       "      d3.select(\"#\"+div+\"_svg\").attr(\"width\", width + margin.right + margin.left)\n",
       "             .attr(\"height\", height + margin.top + margin.bottom);\n",
       "\n",
       "\n",
       "      // Compute the new tree layout.\n",
       "      var nodes = tree.nodes(root).reverse(),\n",
       "          links = tree.links(nodes);\n",
       "\n",
       "\n",
       "      // Update the nodes…\n",
       "      var node = svg.selectAll(\"g.node\")\n",
       "          .data(nodes, function(d) { return d.id || (d.id = ++i); });\n",
       "\n",
       "      // Enter any new nodes at the parent's previous position.\n",
       "      var nodeEnter = node.enter().append(\"g\")\n",
       "          .attr(\"class\", \"node\")\n",
       "          .attr(\"transform\", function(d) { return \"translate(\" + source.x0 + \",\" + source.y0 + \")\"; })\n",
       "          .on(\"click\", click)\n",
       "\n",
       "      nodeEnter.append(\"circle\")\n",
       "          .attr(\"r\", \"10px\")\n",
       "          .attr(\"style\", function(d) { return treeData.style[d.dataID]; } )\n",
       "\n",
       "      var tbox = nodeEnter.append(\"text\")\n",
       "          .attr(\"y\", 25)\n",
       "          .attr(\"text-anchor\", \"middle\")\n",
       "          //.text( function(d) { return treeData.text[d.dataID]; } )\n",
       "          .style(\"fill-opacity\", 1e-6);\n",
       "\n",
       "      tbox.each( function(d) {\n",
       "          var el = d3.select(this)\n",
       "          var text = treeData.text[d.dataID];\n",
       "          var lines = text.split('\\n');\n",
       "          for (var i = 0; i < lines.length; i++) {\n",
       "              var tspan = el.append(\"tspan\").text(lines[i]);\n",
       "              if (i > 0) {\n",
       "                  tspan.attr(\"x\", 0).attr(\"dy\", \"1.2em\");\n",
       "              }\n",
       "          }\n",
       "      });\n",
       "\n",
       "      //tooltip\n",
       "      nodeEnter.append(\"title\").text( function(d) { return treeData.tooltip[d.dataID];} );\n",
       "\n",
       "      // Transition nodes to their new position.\n",
       "      var nodeUpdate = node.transition()\n",
       "          .duration(duration)\n",
       "          .attr(\"transform\", function(d) { return \"translate(\" + d.x + \",\" + d.y + \")\"; });\n",
       "\n",
       "      nodeUpdate.select(\"text\")\n",
       "          .style(\"fill-opacity\", 1);\n",
       "\n",
       "      // Transition exiting nodes to the parent's new position.\n",
       "      var nodeExit = node.exit().transition()\n",
       "          .duration(duration)\n",
       "          .attr(\"transform\", function(d) { return \"translate(\" + source.x + \",\" + source.y + \")\"; })\n",
       "          .remove();\n",
       "\n",
       "      nodeExit.select(\"text\")\n",
       "          .style(\"fill-opacity\", 1e-6);\n",
       "\n",
       "      // Update the links…\n",
       "      var link = svg.selectAll(\"path.link\")\n",
       "          .data(links, function(d) { return d.target.id; });\n",
       "\n",
       "      // Enter any new links at the parent's previous position.\n",
       "      // XXX link width should be based on transition data, not node data\n",
       "      link.enter().insert(\"path\", \"g\")\n",
       "          .attr(\"class\", \"link\")\n",
       "          .attr(\"style\", function(d) {\n",
       "              var ls = treeData.link_style[d.target.dataID];\n",
       "              return ls;\n",
       "          } )\n",
       "          .attr(\"d\", function(d) {\n",
       "            var o = {x: source.x0, y: source.y0};\n",
       "            return diagonal({source: o, target: o});\n",
       "          });\n",
       "\n",
       "      // Transition links to their new position.\n",
       "      link.transition()\n",
       "          .duration(duration)\n",
       "          .attr(\"d\", diagonal);\n",
       "\n",
       "      // Transition exiting nodes to the parent's new position.\n",
       "      link.exit().transition()\n",
       "          .duration(duration)\n",
       "          .attr(\"d\", function(d) {\n",
       "            var o = {x: source.x, y: source.y};\n",
       "            return diagonal({source: o, target: o});\n",
       "          })\n",
       "          .remove();\n",
       "\n",
       "      // Stash the old positions for transition.\n",
       "      nodes.forEach(function(d) {\n",
       "        d.x0 = d.x;\n",
       "        d.y0 = d.y;\n",
       "      });\n",
       "    }\n",
       "\n",
       "    // Toggle children on click.\n",
       "    function click(d) {\n",
       "      if (d.children) {\n",
       "        d._children = d.children;\n",
       "        d.children = null;\n",
       "      } else if (d._children) {\n",
       "        d.children = d._children;\n",
       "        d._children = null;\n",
       "      } else {\n",
       "        initializeChildren(d, 1);\n",
       "      }\n",
       "      update(d, 750);\n",
       "    }\n",
       "\n",
       "}\n",
       "\n",
       "        })();\n",
       "    </script>\n",
       "    <p class=\"d3twarn\">\n",
       "    Attempting to display the tree. If the tree is large, this may take some time.\n",
       "    </p>\n",
       "    <p class=\"d3twarn\">\n",
       "    Note: D3Trees.jl requires an internet connection. If no tree appears, please check your connection. To help fix this, please see <a href=\"https://github.com/sisl/D3Trees.jl/issues/10\">this issue</a>. You may also diagnose errors with the javascript console (Ctrl-Shift-J in chrome).\n",
       "    </p>\n",
       "    </div>\n",
       "    </body>\n",
       "    </html>\n",
       "\n"
      ],
      "text/plain": [
       "PowerSimulations\n",
       "AbstractDeviceFormulation\n",
       "├──PowerSimulations\n",
       "│  AbstractThermalFormulation\n",
       "│  ├──PowerSimulations\n",
       "│  │  ThermalUnitCommitment\n",
       "│  └──PowerSimulations\n",
       "│     AbstractThermalDispatchForm\n",
       "│     ├──PowerSimulations\n",
       "│     │  ThermalDispatchNoMin (0 children)\n",
       "│     ├──PowerSimulations\n",
       "│     │  ThermalRampLimited (0 children)\n",
       "│     └──PowerSimulations\n",
       "│        ThermalDispatch (0 children)\n",
       "├──PowerSimulations\n",
       "│  AbstractBranchFormulation\n",
       "│  ├──PowerSimulations\n",
       "│  │  AbstractTransformerForm\n",
       "│  ├──PowerSimulations\n",
       "│  │  AbstractDCLineForm\n",
       "│  │  └──PowerSimulations\n",
       "│  │     SimpleHVDC (0 children)\n",
       "│  └──PowerSimulations\n",
       "│     AbstractLineForm\n",
       "│     ├──PowerSimulations\n",
       "│     │  PiLine (0 children)\n",
       "│     └──PowerSimulations\n",
       "│        SeriesLine (0 children)\n",
       "├──PowerSimulations\n",
       "│  AbstractLoadFormulation\n",
       "│  ├──PowerSimulations\n",
       "│  │  AbstractControllablePowerLoadForm\n",
       "│  │  └──PowerSimulations\n",
       "│  │     InterruptiblePowerLoad (0 children)\n",
       "│  └──PowerSimulations\n",
       "│     StaticPowerLoad\n",
       "├──PowerSimulations\n",
       "│  AbstractStorageForm\n",
       "│  └──PowerSimulations\n",
       "│     BookKeepingModel\n",
       "├──PowerSimulations\n",
       "│  AbstractRenewableFormulation\n",
       "│  ├──PowerSimulations\n",
       "│  │  AbstractRenewableDispatchForm\n",
       "│  │  ├──PowerSimulations\n",
       "│  │  │  RenewableFullDispatch (0 children)\n",
       "│  │  └──PowerSimulations\n",
       "│  │     RenewableConstantPowerFactor (0 children)\n",
       "│  └──PowerSimulations\n",
       "│     RenewableFixed\n",
       "└──PowerSimulations\n",
       "   AbstractHydroFormulation\n",
       "   ├──PowerSimulations\n",
       "   │  AbstractHydroDispatchForm\n",
       "   │  ├──PowerSimulations\n",
       "   │  │  HydroDispatchRunOfRiver (0 children)\n",
       "   │  └──PowerSimulations\n",
       "   │     HydroDispatchSeasonalFlow (0 children)\n",
       "   ├──PowerSimulations\n",
       "   │  HydroCommitmentSeasonalFlow\n",
       "   └──PowerSimulations\n",
       "      HydroCommitmentRunOfRiver\n"
      ]
     },
     "execution_count": 26,
     "metadata": {},
     "output_type": "execute_result"
    }
   ],
   "source": [
    "TypeTree(PowerSimulations.AbstractDeviceFormulation,scopesep=\"\\n\")"
   ]
  },
  {
   "cell_type": "markdown",
   "metadata": {
    "slideshow": {
     "slide_type": "slide"
    }
   },
   "source": [
    "In addition to the formulations enabled under the `AbstractDeviceFormulation`, a deep integration with [PowerModels.jl](https://github.com/lanl-ansi/powermodels.jl) provides access to a wide variety of power network formulations for representing AC power flow."
   ]
  },
  {
   "cell_type": "code",
   "execution_count": 27,
   "metadata": {
    "ExecuteTime": {
     "end_time": "2019-07-23T05:33:23.669000-06:00",
     "start_time": "2019-07-23T11:32:20.768Z"
    },
    "slideshow": {
     "slide_type": "-"
    }
   },
   "outputs": [
    {
     "data": {
      "text/html": [
       "    <!DOCTYPE html>\n",
       "    <html>\n",
       "    <head>\n",
       "        <meta charset=\"UTF-8\">\n",
       "        <title>Julia D3Tree</title>\n",
       "    </head>\n",
       "    <body>\n",
       "    <div id=\"treevisLzYNmtZ7\">\n",
       "    <style>\n",
       "        \n",
       ".node {\n",
       "    cursor: pointer;\n",
       "}\n",
       "\n",
       ".node circle {\n",
       "\t  fill: #fff;\n",
       "\t  stroke: steelblue;\n",
       "\t  stroke-width: 3px;\n",
       "      r: 10;\n",
       "}\n",
       "\n",
       ".node rect {\n",
       "\t  fill: #fff;\n",
       "\t  stroke: steelblue;\n",
       "\t  stroke-width: 3px;\n",
       "      x: -10;\n",
       "      y: -10;\n",
       "      width: 20;\n",
       "      height: 20;\n",
       "}\n",
       "\n",
       ".node path {\n",
       "    fill: #ffffff;\n",
       "    /* stroke: steelblue; */\n",
       "    stroke-width: 2px;\n",
       "}\n",
       ".node text {\n",
       "    font-family: Arial, Helvetica, sans-serif;\n",
       "    font-style: normal;\n",
       "    font-size: 12px;\n",
       "}\n",
       ".link /* path */ {\n",
       "    fill: none;\n",
       "    stroke: #cccccc;\n",
       "    stroke-width: 2px;\n",
       "}\n",
       ".link text {\n",
       "    font-family: Arial, Helvetica, sans-serif;\n",
       "    font-style: normal;\n",
       "    font-size: 12px;\n",
       "}\n",
       ".hover text{\n",
       "    font-family: Arial, Helvetica, sans-serif;\n",
       "    font-style: normal;\n",
       "    font-size: 12px;\n",
       "}\n",
       "\n",
       "/*\n",
       ".svg-container {\n",
       "    display: inline-block;\n",
       "    position: relative;\n",
       "    width: 100%;\n",
       "    padding-bottom: 100%;\n",
       "    vertical-align: top;\n",
       "    overflow: hidden;\n",
       "}\n",
       ".svg-content-responsive {\n",
       "    display: inline-block;\n",
       "    position: absolute;\n",
       "    top: 10px;\n",
       "    left: 0;\n",
       "}\n",
       "*/\n",
       "\n",
       "    </style>\n",
       "    <script>\n",
       "       (function(){\n",
       "        var treeData = {\"children\":[[2,7,11,13,15,17,19,25],[3,5],[4],[],[6],[],[8,10],[9],[],[],[12],[],[14],[],[16],[],[18],[],[20,23],[21],[22],[],[24],[],[26,27],[],[28,30],[29],[],[31,32],[],[]],\"text\":[\"PowerModels\\nAbstractPowerFormulation\",\"PowerModels\\nAbstractBFForm\",\"PowerModels\\nAbstractBFQPForm\",\"PowerModels\\nSOCBFForm\",\"PowerModels\\nAbstractBFConicForm\",\"PowerModels\\nSOCBFConicForm\",\"PowerModels\\nAbstractWRForm\",\"PowerModels\\nQCWRForm\",\"PowerModels\\nQCWRTriForm\",\"PowerModels\\nSOCWRForm\",\"PowerModels\\nAbstractACPForm\",\"PowerModels\\nStandardACPForm\",\"PowerModels\\nAbstractLPACForm\",\"PowerModels\\nAbstractLPACCForm\",\"PowerModels\\nAbstractACTForm\",\"PowerModels\\nStandardACTForm\",\"PowerModels\\nAbstractACRForm\",\"PowerModels\\nStandardACRForm\",\"PowerModels\\nAbstractConicPowerFormulation\",\"PowerModels\\nAbstractWRMForm\",\"PowerModels\\nSDPWRMForm\",\"PowerModels\\nSparseSDPWRMForm\",\"PowerModels\\nAbstractWRConicForm\",\"PowerModels\\nSOCWRConicForm\",\"PowerModels\\nAbstractActivePowerFormulation\",\"CopperPlatePowerModel\",\"PowerModels\\nAbstractDCPForm\",\"PowerModels\\nAbstractDCPLLForm\",\"PowerModels\\nStandardDCPLLForm\",\"PowerModels\\nDCPlosslessForm\",\"StandardPTDFForm\",\"PowerModels\\nNFAForm\"],\"tooltip\":[\"Abstract\",\"Abstract\",\"Abstract\",\"\",\"Abstract\",\"\",\"Abstract\",\"Abstract\",\"\",\"\",\"Abstract\",\"\",\"Abstract\",\"\",\"Abstract\",\"\",\"Abstract\",\"\",\"Abstract\",\"Abstract\",\"Abstract\",\"\",\"Abstract\",\"\",\"Abstract\",\"\",\"Abstract\",\"Abstract\",\"\",\"Abstract\",\"\",\"\"],\"style\":[\"\",\"\",\"\",\"\",\"\",\"\",\"\",\"\",\"\",\"\",\"\",\"\",\"\",\"\",\"\",\"\",\"\",\"\",\"\",\"\",\"\",\"\",\"\",\"\",\"\",\"\",\"\",\"\",\"\",\"\",\"\",\"\"],\"link_style\":[\"\",\"\",\"\",\"\",\"\",\"\",\"\",\"\",\"\",\"\",\"\",\"\",\"\",\"\",\"\",\"\",\"\",\"\",\"\",\"\",\"\",\"\",\"\",\"\",\"\",\"\",\"\",\"\",\"\",\"\",\"\",\"\"],\"title\":\"Julia D3Tree\",\"options\":{\"tooltip\":[\"Abstract\",\"Abstract\",\"Abstract\",\"\",\"Abstract\",\"\",\"Abstract\",\"Abstract\",\"\",\"\",\"Abstract\",\"\",\"Abstract\",\"\",\"Abstract\",\"\",\"Abstract\",\"\",\"Abstract\",\"Abstract\",\"Abstract\",\"\",\"Abstract\",\"\",\"Abstract\",\"\",\"Abstract\",\"Abstract\",\"\",\"Abstract\",\"\",\"\"],\"text\":[\"PowerModels\\nAbstractPowerFormulation\",\"PowerModels\\nAbstractBFForm\",\"PowerModels\\nAbstractBFQPForm\",\"PowerModels\\nSOCBFForm\",\"PowerModels\\nAbstractBFConicForm\",\"PowerModels\\nSOCBFConicForm\",\"PowerModels\\nAbstractWRForm\",\"PowerModels\\nQCWRForm\",\"PowerModels\\nQCWRTriForm\",\"PowerModels\\nSOCWRForm\",\"PowerModels\\nAbstractACPForm\",\"PowerModels\\nStandardACPForm\",\"PowerModels\\nAbstractLPACForm\",\"PowerModels\\nAbstractLPACCForm\",\"PowerModels\\nAbstractACTForm\",\"PowerModels\\nStandardACTForm\",\"PowerModels\\nAbstractACRForm\",\"PowerModels\\nStandardACRForm\",\"PowerModels\\nAbstractConicPowerFormulation\",\"PowerModels\\nAbstractWRMForm\",\"PowerModels\\nSDPWRMForm\",\"PowerModels\\nSparseSDPWRMForm\",\"PowerModels\\nAbstractWRConicForm\",\"PowerModels\\nSOCWRConicForm\",\"PowerModels\\nAbstractActivePowerFormulation\",\"CopperPlatePowerModel\",\"PowerModels\\nAbstractDCPForm\",\"PowerModels\\nAbstractDCPLLForm\",\"PowerModels\\nStandardDCPLLForm\",\"PowerModels\\nDCPlosslessForm\",\"StandardPTDFForm\",\"PowerModels\\nNFAForm\"],\"init_expand\":1}};\n",
       "        var rootID = 1-1;\n",
       "        var div = \"treevisLzYNmtZ7\";\n",
       "        var initExpand = 1\n",
       "        var initDuration = 750\n",
       "        var svgHeight = 600\n",
       "        if (typeof $ === 'undefined') {\n",
       "    loadScript(\"https://code.jquery.com/jquery-3.1.1.min.js\", run);\n",
       "} else {\n",
       "    run();\n",
       "}\n",
       "\n",
       "function run() {\n",
       "    if (typeof d3 === 'undefined') {\n",
       "        loadScript(\"https://d3js.org/d3.v3.js\", showTree);\n",
       "    } else {\n",
       "        showTree();\n",
       "    }\n",
       "}\n",
       "\n",
       "function loadScript(url, callback)\n",
       "{\n",
       "    console.log(\"starting script load...\")\n",
       "    // Adding the script tag to the head as suggested before\n",
       "    var head = document.getElementsByTagName('head')[0];\n",
       "    var script = document.createElement('script');\n",
       "    script.type = 'text/javascript';\n",
       "    script.src = url;\n",
       "\n",
       "    // Then bind the event to the callback function.\n",
       "    // There are several events for cross browser compatibility.\n",
       "    script.onreadystatechange = callback;\n",
       "    script.onload = callback;\n",
       "\n",
       "    // Fire the loading\n",
       "    head.appendChild(script);\n",
       "}\n",
       "\n",
       "function showTree() {\n",
       "        \n",
       "    // var margin = {top: 20, right: 120, bottom: 20, left: 120},\n",
       "    var margin = {top: 20, right: 120, bottom: 80, left: 120},\n",
       "        width = $(\"#\"+div).width() - margin.right - margin.left,\n",
       "        height = svgHeight - margin.top - margin.bottom;\n",
       "        // TODO make height a parameter of TreeVisualizer\n",
       "\n",
       "    var i = 0,\n",
       "        root;\n",
       "\n",
       "    var tree = d3.layout.tree()\n",
       "        .size([width, height]);\n",
       "\n",
       "    var diagonal = d3.svg.diagonal();\n",
       "        //.projection(function(d) { return [d.y, d.x]; });\n",
       "        // uncomment above to make the tree go horizontally\n",
       "\n",
       "    // see http://stackoverflow.com/questions/16265123/resize-svg-when-window-is-resized-in-d3-js\n",
       "    if (d3.select(\"#\"+div+\"_svg\").empty()) {\n",
       "        $(\".d3twarn\").remove();\n",
       "        d3.select(\"#\"+div).append(\"svg\")\n",
       "            .attr(\"id\", div+\"_svg\")\n",
       "            .attr(\"width\", width + margin.right + margin.left)\n",
       "            .attr(\"height\", height + margin.top + margin.bottom);\n",
       "    }\n",
       "\n",
       "    d3.select(\"#\"+div+\"_svg\").selectAll(\"*\").remove();\n",
       "\n",
       "    var svg = d3.select(\"#\"+div+\"_svg\")\n",
       "        .append(\"g\")\n",
       "            .attr(\"transform\", \"translate(\" + margin.left + \",\" + margin.top + \")\");\n",
       "\n",
       "    // console.log(\"tree data:\");\n",
       "    // console.log(treeData[rootID]);\n",
       "    root = createDisplayNode(rootID, initExpand);\n",
       "    root.x0 = width / 2;\n",
       "    root.y0 = 0;\n",
       "\n",
       "    update(root, initDuration);\n",
       "    console.log(\"tree should appear\");\n",
       "\n",
       "    function createDisplayNode(id, expandLevel) {\n",
       "      var dnode = {\"dataID\":id,\n",
       "                   \"children\": null,\n",
       "                   \"_children\":null};\n",
       "      if (expandLevel > 0) {\n",
       "        initializeChildren(dnode, expandLevel);\n",
       "      }\n",
       "      return dnode;\n",
       "    }\n",
       "\n",
       "    function initializeChildren(d, expandLevel) {\n",
       "      // create children\n",
       "      var children = treeData.children[d.dataID];\n",
       "      d.children = [];\n",
       "      if (children) {\n",
       "        for (var i = 0; i < children.length; i++) {\n",
       "          var cid = children[i]-1;\n",
       "          d.children.push(createDisplayNode(cid, expandLevel-1));\n",
       "        }\n",
       "      }\n",
       "    }\n",
       "\n",
       "    /**\n",
       "     * Recursively called to update each node in the tree.\n",
       "     * \n",
       "     * source is a d3 node that has position, etc.\n",
       "    */\n",
       "    function update(source, duration) {\n",
       "\n",
       "      width = $(\"#\"+div).width() - margin.right - margin.left,\n",
       "      height = $(\"#\"+div).height() - margin.top - margin.bottom;\n",
       "\n",
       "      tree.size([width,height]);\n",
       "      d3.select(\"#\"+div).attr(\"width\", width + margin.right + margin.left)\n",
       "            .attr(\"height\", height + margin.top + margin.bottom);\n",
       "      d3.select(\"#\"+div+\"_svg\").attr(\"width\", width + margin.right + margin.left)\n",
       "             .attr(\"height\", height + margin.top + margin.bottom);\n",
       "\n",
       "\n",
       "      // Compute the new tree layout.\n",
       "      var nodes = tree.nodes(root).reverse(),\n",
       "          links = tree.links(nodes);\n",
       "\n",
       "\n",
       "      // Update the nodes…\n",
       "      var node = svg.selectAll(\"g.node\")\n",
       "          .data(nodes, function(d) { return d.id || (d.id = ++i); });\n",
       "\n",
       "      // Enter any new nodes at the parent's previous position.\n",
       "      var nodeEnter = node.enter().append(\"g\")\n",
       "          .attr(\"class\", \"node\")\n",
       "          .attr(\"transform\", function(d) { return \"translate(\" + source.x0 + \",\" + source.y0 + \")\"; })\n",
       "          .on(\"click\", click)\n",
       "\n",
       "      nodeEnter.append(\"circle\")\n",
       "          .attr(\"r\", \"10px\")\n",
       "          .attr(\"style\", function(d) { return treeData.style[d.dataID]; } )\n",
       "\n",
       "      var tbox = nodeEnter.append(\"text\")\n",
       "          .attr(\"y\", 25)\n",
       "          .attr(\"text-anchor\", \"middle\")\n",
       "          //.text( function(d) { return treeData.text[d.dataID]; } )\n",
       "          .style(\"fill-opacity\", 1e-6);\n",
       "\n",
       "      tbox.each( function(d) {\n",
       "          var el = d3.select(this)\n",
       "          var text = treeData.text[d.dataID];\n",
       "          var lines = text.split('\\n');\n",
       "          for (var i = 0; i < lines.length; i++) {\n",
       "              var tspan = el.append(\"tspan\").text(lines[i]);\n",
       "              if (i > 0) {\n",
       "                  tspan.attr(\"x\", 0).attr(\"dy\", \"1.2em\");\n",
       "              }\n",
       "          }\n",
       "      });\n",
       "\n",
       "      //tooltip\n",
       "      nodeEnter.append(\"title\").text( function(d) { return treeData.tooltip[d.dataID];} );\n",
       "\n",
       "      // Transition nodes to their new position.\n",
       "      var nodeUpdate = node.transition()\n",
       "          .duration(duration)\n",
       "          .attr(\"transform\", function(d) { return \"translate(\" + d.x + \",\" + d.y + \")\"; });\n",
       "\n",
       "      nodeUpdate.select(\"text\")\n",
       "          .style(\"fill-opacity\", 1);\n",
       "\n",
       "      // Transition exiting nodes to the parent's new position.\n",
       "      var nodeExit = node.exit().transition()\n",
       "          .duration(duration)\n",
       "          .attr(\"transform\", function(d) { return \"translate(\" + source.x + \",\" + source.y + \")\"; })\n",
       "          .remove();\n",
       "\n",
       "      nodeExit.select(\"text\")\n",
       "          .style(\"fill-opacity\", 1e-6);\n",
       "\n",
       "      // Update the links…\n",
       "      var link = svg.selectAll(\"path.link\")\n",
       "          .data(links, function(d) { return d.target.id; });\n",
       "\n",
       "      // Enter any new links at the parent's previous position.\n",
       "      // XXX link width should be based on transition data, not node data\n",
       "      link.enter().insert(\"path\", \"g\")\n",
       "          .attr(\"class\", \"link\")\n",
       "          .attr(\"style\", function(d) {\n",
       "              var ls = treeData.link_style[d.target.dataID];\n",
       "              return ls;\n",
       "          } )\n",
       "          .attr(\"d\", function(d) {\n",
       "            var o = {x: source.x0, y: source.y0};\n",
       "            return diagonal({source: o, target: o});\n",
       "          });\n",
       "\n",
       "      // Transition links to their new position.\n",
       "      link.transition()\n",
       "          .duration(duration)\n",
       "          .attr(\"d\", diagonal);\n",
       "\n",
       "      // Transition exiting nodes to the parent's new position.\n",
       "      link.exit().transition()\n",
       "          .duration(duration)\n",
       "          .attr(\"d\", function(d) {\n",
       "            var o = {x: source.x, y: source.y};\n",
       "            return diagonal({source: o, target: o});\n",
       "          })\n",
       "          .remove();\n",
       "\n",
       "      // Stash the old positions for transition.\n",
       "      nodes.forEach(function(d) {\n",
       "        d.x0 = d.x;\n",
       "        d.y0 = d.y;\n",
       "      });\n",
       "    }\n",
       "\n",
       "    // Toggle children on click.\n",
       "    function click(d) {\n",
       "      if (d.children) {\n",
       "        d._children = d.children;\n",
       "        d.children = null;\n",
       "      } else if (d._children) {\n",
       "        d.children = d._children;\n",
       "        d._children = null;\n",
       "      } else {\n",
       "        initializeChildren(d, 1);\n",
       "      }\n",
       "      update(d, 750);\n",
       "    }\n",
       "\n",
       "}\n",
       "\n",
       "        })();\n",
       "    </script>\n",
       "    <p class=\"d3twarn\">\n",
       "    Attempting to display the tree. If the tree is large, this may take some time.\n",
       "    </p>\n",
       "    <p class=\"d3twarn\">\n",
       "    Note: D3Trees.jl requires an internet connection. If no tree appears, please check your connection. To help fix this, please see <a href=\"https://github.com/sisl/D3Trees.jl/issues/10\">this issue</a>. You may also diagnose errors with the javascript console (Ctrl-Shift-J in chrome).\n",
       "    </p>\n",
       "    </div>\n",
       "    </body>\n",
       "    </html>\n",
       "\n"
      ],
      "text/plain": [
       "PowerModels\n",
       "AbstractPowerFormulation\n",
       "├──PowerModels\n",
       "│  AbstractBFForm\n",
       "│  ├──PowerModels\n",
       "│  │  AbstractBFQPForm\n",
       "│  │  └──PowerModels\n",
       "│  │     SOCBFForm (0 children)\n",
       "│  └──PowerModels\n",
       "│     AbstractBFConicForm\n",
       "│     └──PowerModels\n",
       "│        SOCBFConicForm (0 children)\n",
       "├──PowerModels\n",
       "│  AbstractWRForm\n",
       "│  ├──PowerModels\n",
       "│  │  QCWRForm\n",
       "│  │  └──PowerModels\n",
       "│  │     QCWRTriForm (0 children)\n",
       "│  └──PowerModels\n",
       "│     SOCWRForm\n",
       "├──PowerModels\n",
       "│  AbstractACPForm\n",
       "│  └──PowerModels\n",
       "│     StandardACPForm\n",
       "├──PowerModels\n",
       "│  AbstractLPACForm\n",
       "│  └──PowerModels\n",
       "│     AbstractLPACCForm\n",
       "├──PowerModels\n",
       "│  AbstractACTForm\n",
       "│  └──PowerModels\n",
       "│     StandardACTForm\n",
       "├──PowerModels\n",
       "│  AbstractACRForm\n",
       "│  └──PowerModels\n",
       "│     StandardACRForm\n",
       "├──PowerModels\n",
       "│  AbstractConicPowerFormulation\n",
       "│  ├──PowerModels\n",
       "│  │  AbstractWRMForm\n",
       "│  │  └──PowerModels\n",
       "│  │     SDPWRMForm (1 children)\n",
       "│  └──PowerModels\n",
       "│     AbstractWRConicForm\n",
       "│     └──PowerModels\n",
       "│        SOCWRConicForm (0 children)\n",
       "└──PowerModels\n",
       "   AbstractActivePowerFormulation\n",
       "   ├──CopperPlatePowerModel\n",
       "   └──PowerModels\n",
       "      AbstractDCPForm\n",
       "      ├──PowerModels\n",
       "      │  AbstractDCPLLForm (1 children)\n",
       "      └──PowerModels\n",
       "         DCPlosslessForm (2 children)\n"
      ]
     },
     "execution_count": 27,
     "metadata": {},
     "output_type": "execute_result"
    }
   ],
   "source": [
    "TypeTree(PowerSimulations.PowerModels.AbstractPowerFormulation,scopesep=\"\\n\")"
   ]
  },
  {
   "cell_type": "markdown",
   "metadata": {
    "slideshow": {
     "slide_type": "slide"
    }
   },
   "source": [
    "The above model is formulated with a `CopperPlatePowerModel` network formulation. In principle, we can adjust the formulation to any concrete subtype of `AbstractPowerFormulation`. "
   ]
  },
  {
   "cell_type": "code",
   "execution_count": 28,
   "metadata": {
    "ExecuteTime": {
     "end_time": "2019-07-23T05:33:34.009000-06:00",
     "start_time": "2019-07-23T11:32:20.773Z"
    },
    "slideshow": {
     "slide_type": "-"
    }
   },
   "outputs": [],
   "source": [
    "ed_model = PowerSimulations.EconomicDispatch(sys, PowerSimulations.PowerModels.DCPlosslessForm, \n",
    "                                        optimizer = with_optimizer(GLPK.Optimizer));"
   ]
  },
  {
   "cell_type": "markdown",
   "metadata": {
    "slideshow": {
     "slide_type": "slide"
    }
   },
   "source": [
    "# Learnings\n",
    "\n",
    "- Knowledge transfer from Python, R, MATLAB programmers/analysts to Julia\n",
    "- Best software engineering practices\n",
    "- Reproducible builds and managing dependencies"
   ]
  },
  {
   "cell_type": "markdown",
   "metadata": {
    "slideshow": {
     "slide_type": "slide"
    }
   },
   "source": [
    "# Conclusions\n",
    "\n",
    "- Free and open source production cost model in Julia\n",
    "- [PowerSystems.jl](https://github.com/NREL/PowerSystems.jl)\n",
    "- [PowerSimulations.jl](https://github.com/NREL/PowerSimulations.jl)\n",
    "- [PowerModels.jl](https://github.com/lanl-ansi/PowerModels.jl)\n",
    "- [JuMP](https://github.com/JuliaOpt/JuMP.jl)\n",
    "- [D3TypeTrees](https://github.com/claytonpbarrows/D3TypeTrees.jl)\n",
    "- Questions?"
   ]
  }
 ],
 "metadata": {
  "@webio": {
   "lastCommId": null,
   "lastKernelId": null
  },
  "anaconda-cloud": {},
  "celltoolbar": "Slideshow",
  "hide_input": false,
  "kernelspec": {
   "display_name": "Julia 1.1.0",
   "language": "julia",
   "name": "julia-1.1"
  },
  "language_info": {
   "file_extension": ".jl",
   "mimetype": "application/julia",
   "name": "julia",
   "version": "1.1.0"
  },
  "varInspector": {
   "cols": {
    "lenName": 16,
    "lenType": 16,
    "lenVar": 40
   },
   "kernels_config": {
    "python": {
     "delete_cmd_postfix": "",
     "delete_cmd_prefix": "del ",
     "library": "var_list.py",
     "varRefreshCmd": "print(var_dic_list())"
    },
    "r": {
     "delete_cmd_postfix": ") ",
     "delete_cmd_prefix": "rm(",
     "library": "var_list.r",
     "varRefreshCmd": "cat(var_dic_list()) "
    }
   },
   "types_to_exclude": [
    "module",
    "function",
    "builtin_function_or_method",
    "instance",
    "_Feature"
   ],
   "window_display": false
  },
  "widgets": {
   "application/vnd.jupyter.widget-state+json": {
    "state": {},
    "version_major": 2,
    "version_minor": 0
   }
  }
 },
 "nbformat": 4,
 "nbformat_minor": 2
}
